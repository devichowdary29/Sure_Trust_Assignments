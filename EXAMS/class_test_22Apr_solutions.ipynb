{
 "cells": [
  {
   "cell_type": "code",
   "execution_count": null,
   "id": "55ffa895",
   "metadata": {},
   "outputs": [
    {
     "name": "stdout",
     "output_type": "stream",
     "text": [
      "Devi Vara Prasad\n",
      "{'e': 1, 'i': 1, 'a': 4}\n"
     ]
    }
   ],
   "source": [
    "def count_vowels(sentence):\n",
    "    sentence=sentence.lower()\n",
    "    vowels=\"aeiou\"\n",
    "    vowel_counts={}\n",
    "    for char in sentence:                               #Question_1\n",
    "        if char in vowels:\n",
    "            vowel_counts[char]=vowel_counts.get(char,0)+1\n",
    "    return vowel_counts\n",
    "input_sentence=input(\"enter the sentence\") \n",
    "result=count_vowels(input_sentence)\n",
    "print(input_sentence)\n",
    "print(result)\n"
   ]
  },
  {
   "cell_type": "code",
   "execution_count": null,
   "id": "f447c784",
   "metadata": {},
   "outputs": [
    {
     "name": "stdout",
     "output_type": "stream",
     "text": [
      "101 111 121 131 141 "
     ]
    }
   ],
   "source": [
    "def is_palindrome(number):\n",
    "    return str(number)==str(number)[::-1]\n",
    "\n",
    "def print_palindromes(num1, num2):\n",
    "    for num in range(num1, num2 + 1):\n",
    "        if is_palindrome(num):                  #Question_2\n",
    "            print(num, end=' ')\n",
    "\n",
    "num1=int(input(\"enter num1\"))\n",
    "num2=int(input(\"Enter num2\"))\n",
    "\n",
    "print_palindromes(num1,num2)\n",
    "\n"
   ]
  },
  {
   "cell_type": "code",
   "execution_count": null,
   "id": "d9678a32",
   "metadata": {},
   "outputs": [],
   "source": [
    "class Employee:\n",
    "    def __init__(self,emp_id,name,salary):       #Question_3\n",
    "        self.emp_id=emp_id\n",
    "        self.name=name\n",
    "        self.salary=salary"
   ]
  },
  {
   "cell_type": "code",
   "execution_count": null,
   "id": "8a975e46",
   "metadata": {},
   "outputs": [],
   "source": []
  }
 ],
 "metadata": {
  "kernelspec": {
   "display_name": "base",
   "language": "python",
   "name": "python3"
  },
  "language_info": {
   "codemirror_mode": {
    "name": "ipython",
    "version": 3
   },
   "file_extension": ".py",
   "mimetype": "text/x-python",
   "name": "python",
   "nbconvert_exporter": "python",
   "pygments_lexer": "ipython3",
   "version": "3.12.4"
  }
 },
 "nbformat": 4,
 "nbformat_minor": 5
}
