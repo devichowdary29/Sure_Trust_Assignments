{
 "cells": [
  {
   "cell_type": "code",
   "execution_count": null,
   "metadata": {
    "id": "0V3Xtuh9siNn"
   },
   "outputs": [],
   "source": [
    "# Import the required packages"
   ]
  },
  {
   "cell_type": "markdown",
   "metadata": {
    "id": "Ase3qjp9cJUC"
   },
   "source": [
    "# <u>**Problem 1**</u>\n",
    "\n",
    "### You are given a list of urls. You need to extract the domain name from the urls in another list. Also you need to extract the ending string which the url ends with.\n",
    "\n",
    "### For example, https://www.example.com/market.php -- In this example, domain name is <code>www.example.com</code> and the ending string is <code>php</code>\n",
    "\n"
   ]
  },
  {
   "cell_type": "code",
   "execution_count": null,
   "metadata": {
    "id": "xj0SaK7smcPu"
   },
   "outputs": [],
   "source": [
    "# List of urls\n",
    "url_list = ['https://blog.hubspot.com/marketing/parts-url',\n",
    "            'https://www.suretrust.com/internships',\n",
    "            'https://pandas.pydata.org/pandas-docs/stable/reference/api/pandas.DataFrame.rename.html',\n",
    "            'https://www.programiz.com/python-programming/list']"
   ]
  },
  {
   "cell_type": "code",
   "execution_count": null,
   "metadata": {
    "id": "N1hhYCZw3V1c"
   },
   "outputs": [],
   "source": [
    "# Extract the domains and the ending string. Hint : use the split method for a string\n",
    "\n",
    "domain_list = None\n",
    "ending_string_list = None\n"
   ]
  },
  {
   "cell_type": "markdown",
   "metadata": {
    "id": "EVgY54DrvLEF"
   },
   "source": [
    "## Next create a pandas dataframe with the above three lists."
   ]
  },
  {
   "cell_type": "code",
   "execution_count": null,
   "metadata": {
    "colab": {
     "base_uri": "https://localhost:8080/",
     "height": 173
    },
    "id": "2osXcjvpu6Uz",
    "outputId": "10f0953c-c183-4e87-8490-dc302529b1c3"
   },
   "outputs": [],
   "source": [
    "# Your code here. Hint : zip the three lists\n",
    "list_of_tuples = None\n",
    "\n",
    "# Create the dataframe and name the columns as 'Url', 'Domain', 'Ending_string'\n",
    "url_info_frame = None\n",
    "\n",
    "# Print the dataframe\n"
   ]
  },
  {
   "cell_type": "code",
   "execution_count": null,
   "metadata": {},
   "outputs": [],
   "source": []
  },
  {
   "cell_type": "markdown",
   "metadata": {},
   "source": [
    "# Problem 2\n",
    "\n",
    "### **Problem Statement:**\n",
    "You are given sales data for a small electronics store. The store sells various products like laptops, smartphones, and tablets. Your task is to create a pandas DataFrame from scratch using the given data and perform some basic analysis.\n",
    "\n",
    "#### **Instructions:**\n",
    "1. Create a pandas DataFrame with the following columns:\n",
    "   - `'Product'`: Name of the product  \n",
    "   - `'Category'`: Type of product (Laptop, Smartphone, Tablet)  \n",
    "   - `'Price'`: Price of the product (in USD)  \n",
    "   - `'Units Sold'`: Number of units sold  \n",
    "\n",
    "2. Use the following data to populate the DataFrame:  \n",
    "\n",
    "   | Product              | Category    | Price | Units Sold |\n",
    "   |----------------------|------------|-------|------------|\n",
    "   | MacBook Air         | Laptop     | 999   | 35         |\n",
    "   | Dell XPS 13         | Laptop     | 1199  | 25         |\n",
    "   | iPhone 14           | Smartphone | 799   | 50         |\n",
    "   | Samsung Galaxy S23  | Smartphone | 899   | 40         |\n",
    "   | iPad Pro            | Tablet     | 1099  | 30         |\n",
    "\n",
    "3. **Perform Basic Analysis on the DataFrame**:\n",
    "   - Print the first 5 rows of the DataFrame.\n",
    "   - Print the number of rows and columns.\n",
    "   - Print the number of elements in the dataframe.\n",
    "   - Print the column names.\n",
    "   - Check for missing values.\n",
    "   - Print basic statistics.\n",
    "\n",
    "---\n"
   ]
  },
  {
   "cell_type": "markdown",
   "metadata": {},
   "source": [
    "---\n",
    "\n",
    "### **Expected Output:**\n",
    "```\n",
    "First 5 rows of the DataFrame:\n",
    "             Product    Category  Price  Units Sold\n",
    "0     MacBook Air     Laptop    999         35\n",
    "1     Dell XPS 13     Laptop   1199         25\n",
    "2     iPhone 14   Smartphone    799         50\n",
    "3     Samsung Galaxy S23  Smartphone    899         40\n",
    "4     iPad Pro        Tablet   1099         30\n",
    "\n",
    "Shape of the DataFrame (rows, columns): (5, 4)\n",
    "\n",
    "Total number of elements in the DataFrame: 20\n",
    "\n",
    "Column names: ['Product', 'Category', 'Price', 'Units Sold']\n",
    "\n",
    "Missing values in each column:\n",
    "Product       0\n",
    "Category      0\n",
    "Price         0\n",
    "Units Sold    0\n",
    "dtype: int64\n",
    "\n",
    "Summary statistics of numerical columns:\n",
    "             Price  Units Sold\n",
    "count     5.000000   5.000000\n",
    "mean   999.000000  36.000000\n",
    "std    146.759473   9.354143\n",
    "min    799.000000  25.000000\n",
    "25%    899.000000  30.000000\n",
    "50%    999.000000  35.000000\n",
    "75%   1099.000000  40.000000\n",
    "max   1199.000000  50.000000\n",
    "```\n"
   ]
  },
  {
   "cell_type": "code",
   "execution_count": null,
   "metadata": {},
   "outputs": [],
   "source": []
  },
  {
   "cell_type": "code",
   "execution_count": null,
   "metadata": {},
   "outputs": [],
   "source": []
  },
  {
   "cell_type": "code",
   "execution_count": null,
   "metadata": {},
   "outputs": [],
   "source": []
  },
  {
   "cell_type": "code",
   "execution_count": null,
   "metadata": {},
   "outputs": [],
   "source": []
  }
 ],
 "metadata": {
  "colab": {
   "provenance": []
  },
  "kernelspec": {
   "display_name": "Python 3 (ipykernel)",
   "language": "python",
   "name": "python3"
  },
  "language_info": {
   "codemirror_mode": {
    "name": "ipython",
    "version": 3
   },
   "file_extension": ".py",
   "mimetype": "text/x-python",
   "name": "python",
   "nbconvert_exporter": "python",
   "pygments_lexer": "ipython3",
   "version": "3.10.11"
  }
 },
 "nbformat": 4,
 "nbformat_minor": 1
}
