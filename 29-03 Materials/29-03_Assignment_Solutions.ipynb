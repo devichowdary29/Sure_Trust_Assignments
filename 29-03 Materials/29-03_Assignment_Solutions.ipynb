{
 "cells": [
  {
   "cell_type": "code",
   "execution_count": 3,
   "metadata": {},
   "outputs": [
    {
     "name": "stdout",
     "output_type": "stream",
     "text": [
      "First 5 Rows:\n",
      "              Product    Category  Price  Units Sold\n",
      "0         MacBook Air      Laptop    999          35\n",
      "1         Dell XPS 13      Laptop   1199          25\n",
      "2           iPhone 14  Smartphone    799          50\n",
      "3  Samsung Galaxy S23  Smartphone    899          40\n",
      "4            iPad Pro      Tablet   1099          30\n",
      "\n",
      "Shape of DataFrame: (5, 4)\n",
      "\n",
      "Number of Elements: 20\n",
      "\n",
      "Column Names: ['Product', 'Category', 'Price', 'Units Sold']\n",
      "\n",
      "Missing Values:\n",
      "Product       0\n",
      "Category      0\n",
      "Price         0\n",
      "Units Sold    0\n",
      "dtype: int64\n",
      "\n",
      "Basic Statistics:\n",
      "             Price  Units Sold\n",
      "count     5.000000    5.000000\n",
      "mean    999.000000   36.000000\n",
      "std     158.113883    9.617692\n",
      "min     799.000000   25.000000\n",
      "25%     899.000000   30.000000\n",
      "50%     999.000000   35.000000\n",
      "75%    1099.000000   40.000000\n",
      "max    1199.000000   50.000000\n"
     ]
    }
   ],
   "source": [
    "#Problem-2\n",
    "import pandas as pd\n",
    "data = {\n",
    "    'Product': [\"MacBook Air\", \"Dell XPS 13\", \"iPhone 14\", \"Samsung Galaxy S23\", \"iPad Pro\"],\n",
    "    'Category': [\"Laptop\", \"Laptop\", \"Smartphone\", \"Smartphone\", \"Tablet\"],\n",
    "    'Price': [999, 1199, 799, 899, 1099],\n",
    "    'Units Sold': [35, 25, 50, 40, 30]\n",
    "}\n",
    "df = pd.DataFrame(data)\n",
    "print(\"First 5 Rows:\")\n",
    "print(df.head())\n",
    "print(\"\\nShape of DataFrame:\", df.shape)\n",
    "print(\"\\nNumber of Elements:\", df.size)\n",
    "print(\"\\nColumn Names:\", df.columns.tolist())\n",
    "print(\"\\nMissing Values:\")\n",
    "print(df.isnull().sum())\n",
    "print(\"\\nBasic Statistics:\")\n",
    "print(df.describe())\n"
   ]
  },
  {
   "cell_type": "code",
   "execution_count": null,
   "metadata": {},
   "outputs": [],
   "source": []
  }
 ],
 "metadata": {
  "kernelspec": {
   "display_name": "Python 3",
   "language": "python",
   "name": "python3"
  },
  "language_info": {
   "codemirror_mode": {
    "name": "ipython",
    "version": 3
   },
   "file_extension": ".py",
   "mimetype": "text/x-python",
   "name": "python",
   "nbconvert_exporter": "python",
   "pygments_lexer": "ipython3",
   "version": "3.12.9"
  }
 },
 "nbformat": 4,
 "nbformat_minor": 2
}
