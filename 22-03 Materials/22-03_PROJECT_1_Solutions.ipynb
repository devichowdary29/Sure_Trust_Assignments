{
 "cells": [
  {
   "cell_type": "code",
   "execution_count": 4,
   "metadata": {},
   "outputs": [
    {
     "name": "stdout",
     "output_type": "stream",
     "text": [
      "Computer chose: scissors\n",
      "Computer wins!\n",
      "Computer chose: scissors\n",
      "Computer wins!\n",
      "Computer chose: rock\n",
      "It's a tie!\n",
      "Game Over!\n"
     ]
    }
   ],
   "source": [
    "import random\n",
    "\n",
    "class Player:\n",
    "    def __init__(self, name):\n",
    "        self.name = name\n",
    "        self.score = 0\n",
    "    def choose_move(self):\n",
    "        valid_moves = [\"rock\", \"paper\", \"scissors\"]\n",
    "        while True:\n",
    "            move = input(f\"{self.name}, enter your move (rock, paper, scissors): \").strip().lower()\n",
    "            if move in valid_moves:\n",
    "                return move\n",
    "            print(\"Invalid move. Please choose rock, paper, or scissors.\")\n",
    "class Computer(Player):\n",
    "    def choose_move(self):\n",
    "        return random.choice([\"rock\", \"paper\", \"scissors\"])\n",
    "def determine_winner(player_choice, computer_choice):\n",
    "    if player_choice == computer_choice:\n",
    "        return \"It's a tie!\"\n",
    "    elif (player_choice == \"rock\" and computer_choice == \"scissors\") or \\\n",
    "         (player_choice == \"scissors\" and computer_choice == \"paper\") or \\\n",
    "         (player_choice == \"paper\" and computer_choice == \"rock\"):\n",
    "        return \"Player wins!\"\n",
    "    else:\n",
    "        return \"Computer wins!\"\n",
    "\n",
    "class Game:\n",
    "    def __init__(self):\n",
    "        self.player = Player(\"Alice\")\n",
    "        self.computer = Computer(\"AI\")\n",
    "\n",
    "    def play_round(self):\n",
    "        player_move = self.player.choose_move()\n",
    "        computer_move = self.computer.choose_move()\n",
    "        print(f\"Computer chose: {computer_move}\")\n",
    "        print(determine_winner(player_move, computer_move))\n",
    "\n",
    "    def play_game(self):\n",
    "        rounds = 3\n",
    "        for _ in range(rounds):\n",
    "            self.play_round()\n",
    "        print(\"Game Over!\")\n",
    "\n",
    "# Run the game\n",
    "game = Game()\n",
    "game.play_game()\n"
   ]
  }
 ],
 "metadata": {
  "kernelspec": {
   "display_name": "base",
   "language": "python",
   "name": "python3"
  },
  "language_info": {
   "codemirror_mode": {
    "name": "ipython",
    "version": 3
   },
   "file_extension": ".py",
   "mimetype": "text/x-python",
   "name": "python",
   "nbconvert_exporter": "python",
   "pygments_lexer": "ipython3",
   "version": "3.12.4"
  }
 },
 "nbformat": 4,
 "nbformat_minor": 2
}
