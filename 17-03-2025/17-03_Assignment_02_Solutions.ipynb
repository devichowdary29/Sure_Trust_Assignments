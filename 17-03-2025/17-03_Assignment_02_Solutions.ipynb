{
 "cells": [
  {
   "cell_type": "code",
   "execution_count": 5,
   "metadata": {},
   "outputs": [
    {
     "name": "stdout",
     "output_type": "stream",
     "text": [
      "Volume: 141.3716694115407\n",
      "Surface Area: 94.24777960769379\n"
     ]
    }
   ],
   "source": [
    "import math\n",
    "class Cylinder:\n",
    "    def __init__(self,radius,height):\n",
    "        self.radius=radius\n",
    "        self.height=height\n",
    "    \n",
    "    def volume(self):\n",
    "        return math.pi*self.radius**2*self.height\n",
    "    \n",
    "    def surface_area(self):\n",
    "        return 2* math.pi*self.radius*self.height\n",
    "\n",
    "cylinder=Cylinder(3, 5)\n",
    "print(\"Volume:\", cylinder.volume())\n",
    "print(\"Surface Area:\", cylinder.surface_area())"
   ]
  },
  {
   "cell_type": "code",
   "execution_count": 6,
   "metadata": {},
   "outputs": [
    {
     "name": "stdout",
     "output_type": "stream",
     "text": [
      "Balance after deposit: 1000\n",
      "Balance after withdrawal: 500\n",
      "Balance after withdrawal: insufficent balance\n"
     ]
    }
   ],
   "source": [
    "class BankAccount:\n",
    "    def __init__(self,balance=0):\n",
    "        self.balance=balance\n",
    "\n",
    "    def deposit(self,amount):\n",
    "        self.balance+=amount\n",
    "        return self.balance\n",
    "\n",
    "    def withdraw(self,amount):\n",
    "        if amount>self.balance:\n",
    "            return \"insufficent balance\"\n",
    "        self.balance-=amount\n",
    "        return self.balance\n",
    "\n",
    "account = BankAccount()\n",
    "print(\"Balance after deposit:\", account.deposit(1000))\n",
    "print(\"Balance after withdrawal:\", account.withdraw(500))\n",
    "print(\"Balance after withdrawal:\", account.withdraw(600)) \n"
   ]
  },
  {
   "cell_type": "code",
   "execution_count": null,
   "metadata": {},
   "outputs": [
    {
     "name": "stdout",
     "output_type": "stream",
     "text": [
      "The time is 2:45 PM\n",
      "The ratio of minutes to hours is 3.2142857142857144\n"
     ]
    }
   ],
   "source": [
    "class Time:\n",
    "    def __init__(self,hours,minutes):\n",
    "        self.hours=hours\n",
    "        self.minutes=minutes\n",
    "    \n",
    "    def DisplayTime(self):\n",
    "        if self.hours>=23:\n",
    "            print(\"The input hours should be less than 23\")\n",
    "            return\n",
    "        if self.minutes>=60:\n",
    "            print(\"The input minutes should be less than 60\")\n",
    "            return\n",
    "        \n",
    "        period=\"AM\" if self.hours<12 else \"PM\"\n",
    "        display_hour=self.hours%12\n",
    "        display_hour=12 if display_hour == 0 else display_hour\n",
    "        \n",
    "        print(f\"The time is {display_hour}:{self.minutes:02d} {period}\")\n",
    "    \n",
    "    def DisplayRatio(self):\n",
    "        try:\n",
    "            ratio=self.minutes/self.hours\n",
    "            print(f\"The ratio of minutes to hours is {ratio}\")\n",
    "        except ZeroDivisionError:\n",
    "            print(\"Cannot divide by zero hours.\")\n",
    "\n",
    "time1=Time(14,45)\n",
    "time1.DisplayTime() \n",
    "time1.DisplayRatio()  \n"
   ]
  },
  {
   "cell_type": "code",
   "execution_count": null,
   "metadata": {},
   "outputs": [],
   "source": []
  }
 ],
 "metadata": {
  "kernelspec": {
   "display_name": "base",
   "language": "python",
   "name": "python3"
  },
  "language_info": {
   "codemirror_mode": {
    "name": "ipython",
    "version": 3
   },
   "file_extension": ".py",
   "mimetype": "text/x-python",
   "name": "python",
   "nbconvert_exporter": "python",
   "pygments_lexer": "ipython3",
   "version": "3.12.4"
  }
 },
 "nbformat": 4,
 "nbformat_minor": 2
}
