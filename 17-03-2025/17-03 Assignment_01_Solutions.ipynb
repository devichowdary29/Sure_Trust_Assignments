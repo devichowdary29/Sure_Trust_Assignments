{
 "cells": [
  {
   "cell_type": "markdown",
   "metadata": {
    "id": "8hjlpv4ix8LQ"
   },
   "source": [
    "# <center><u>Dream Premier League (DPL)</u>\n",
    "### A match of DPL is going on. Team Aravali has a made score of **195** for **7** in **20** overs and the opponent Team Shivalik is doing some analytics to find out what they need to do to win. You are the Data Scientist of the Team Shivalik and you have been asked to help them."
   ]
  },
  {
   "cell_type": "markdown",
   "metadata": {
    "id": "JkqzpQzX54Z-"
   },
   "source": [
    "## <u>Problem 1</u>\n",
    "\n",
    "### Team Shivalik has stored the runs made by Team Aravali players in the following dictionary.\n",
    "\n"
   ]
  },
  {
   "cell_type": "code",
   "execution_count": null,
   "metadata": {
    "id": "rypcBaB37JMD"
   },
   "outputs": [],
   "source": [
    "aravali ={ \"Dhoni\":25, \"Virat\":31, \"Pollard\":11, \"Rohit\": 0, \"Maxwell\":12, \"Sachin\":59, \"Sehwag\":12 }"
   ]
  },
  {
   "cell_type": "markdown",
   "metadata": {
    "id": "747H1msbg-ns"
   },
   "source": [
    "### Get the list of all players in Team Aravali"
   ]
  },
  {
   "cell_type": "code",
   "execution_count": null,
   "metadata": {
    "id": "poP0TCGdhLuj"
   },
   "outputs": [
    {
     "data": {
      "text/plain": [
       "['Dhoni', 'Virat', 'Pollard', 'Rohit', 'Maxwell', 'Sachin', 'Sehwag']"
      ]
     },
     "execution_count": 3,
     "metadata": {},
     "output_type": "execute_result"
    }
   ],
   "source": [
    "# Get the list of players in Team Aravali\n",
    "aravali_players = list(aravali.keys())\n",
    "aravali_players"
   ]
  },
  {
   "cell_type": "markdown",
   "metadata": {
    "id": "YypMEr-i7fCE"
   },
   "source": [
    "## <u>Problem 2</u>\n",
    "\n",
    "### By mistake, the runs made by Rohit was recorded as <code>0</code>. Your next task is to figure out how many runs were made by Rohit and update the dictionary"
   ]
  },
  {
   "cell_type": "code",
   "execution_count": null,
   "metadata": {
    "id": "DZTXlt9I51vd"
   },
   "outputs": [
    {
     "name": "stdout",
     "output_type": "stream",
     "text": [
      "Rohit's runs: 45\n"
     ]
    }
   ],
   "source": [
    "total_runs = 195\n",
    "current_runs = sum(aravali.values())\n",
    "Rohit_runs = total_runs - current_runs\n",
    "\n",
    "print(\"Rohit's runs:\", Rohit_runs)\n",
    "aravali[\"Rohit\"] = Rohit_runs"
   ]
  },
  {
   "cell_type": "markdown",
   "metadata": {
    "id": "iM1FJFlWh7C5"
   },
   "source": [
    "## <u>Problem 4</u>\n",
    "\n",
    "#### Your next task is to find out who scored the second highest runs in Team Aravali"
   ]
  },
  {
   "cell_type": "code",
   "execution_count": 5,
   "metadata": {
    "id": "YPdfTlsKiWVx"
   },
   "outputs": [
    {
     "name": "stdout",
     "output_type": "stream",
     "text": [
      "Second highest scorer: Rohit\n"
     ]
    }
   ],
   "source": [
    "sorted_players = sorted(aravali.items(), key=lambda x: x[1], reverse=True)\n",
    "\n",
    "second_highest_scorer = sorted_players[1][0]\n",
    "print(\"Second highest scorer:\", second_highest_scorer)"
   ]
  },
  {
   "cell_type": "markdown",
   "metadata": {
    "id": "se80XQGBGekX"
   },
   "source": [
    "## <u>Problem 4</u>\n",
    "\n",
    "#### Just out of curiosity, you want to find out the unique runs made by Team Aravali players."
   ]
  },
  {
   "cell_type": "code",
   "execution_count": null,
   "metadata": {
    "id": "X-XQWW4lGZaG"
   },
   "outputs": [
    {
     "name": "stdout",
     "output_type": "stream",
     "text": [
      "Unique runs: {11, 12, 45, 25, 59, 31}\n"
     ]
    }
   ],
   "source": [
    "run_set = set(aravali.values())\n",
    "\n",
    "print(\"Unique runs:\", run_set)"
   ]
  },
  {
   "cell_type": "markdown",
   "metadata": {
    "id": "IJvnHaNzeGMP"
   },
   "source": [
    "## <u>Problem 5</u>\n",
    "#### Team Shivalik has 6 fixed players and 5 slots for players who are playing good currently. Create two collections using appropriate data structure to write this 6 fixed and 5 mutable players. You can choose any player you want.\n",
    "\n",
    "#### Available Players in the squad :\n",
    "<code>['Vijay', 'Lasith', 'Dravid', 'Smith', 'Ambati', 'Hardik', 'Sushant', 'Mandeep', 'Harbhajan', 'Yuvraj', 'Jadeja','Rajeev','Amrit']\n"
   ]
  },
  {
   "cell_type": "code",
   "execution_count": null,
   "metadata": {
    "id": "-0hTOMTQdEXE"
   },
   "outputs": [
    {
     "name": "stdout",
     "output_type": "stream",
     "text": [
      "Fixed players: ('Vijay', 'Lasith', 'Dravid', 'Smith', 'Ambati', 'Hardik')\n",
      "Mutable players: ['Sushant', 'Mandeep', 'Harbhajan', 'Yuvraj', 'Jadeja']\n"
     ]
    }
   ],
   "source": [
    "players = ['Vijay', 'Lasith', 'Dravid', 'Smith', 'Ambati', 'Hardik', 'Sushant', 'Mandeep', 'Harbhajan', 'Yuvraj', 'Jadeja', 'Rajeev', 'Amrit']\n",
    "\n",
    "fixed = tuple(players[:6])\n",
    "mutable = list(players[6:11])\n",
    "\n",
    "print(\"Fixed players:\", fixed)\n",
    "print(\"Mutable players:\", mutable)"
   ]
  },
  {
   "cell_type": "markdown",
   "metadata": {
    "id": "N-VdT09NfhL6"
   },
   "source": [
    "## <u>Problem 6</u>\n",
    "Try changing fixed player and mutable player"
   ]
  },
  {
   "cell_type": "code",
   "execution_count": 8,
   "metadata": {
    "id": "E4lN-bxbffnF"
   },
   "outputs": [],
   "source": [
    "\n",
    "fixed = list(fixed)\n",
    "fixed[0] = 'NewPlayer'\n",
    "fixed = tuple(fixed)\n",
    "mutable[0] = 'NewPlayer'"
   ]
  },
  {
   "cell_type": "markdown",
   "metadata": {
    "id": "KHrH5V0HFFhq"
   },
   "source": [
    "## <u> Problem 7</u>\n",
    "\n",
    "#### Find out the runrate required for Team Shivalik to win (for 20 overs)<br>\n",
    "#### Hint: Runrate is runs required per over to win the match"
   ]
  },
  {
   "cell_type": "code",
   "execution_count": 9,
   "metadata": {
    "id": "QFd1CnS5E79X"
   },
   "outputs": [
    {
     "name": "stdout",
     "output_type": "stream",
     "text": [
      "Required run rate: 9.8\n"
     ]
    }
   ],
   "source": [
    "runs_required = 196  \n",
    "overs = 20\n",
    "runrate = runs_required / overs\n",
    "print(\"Required run rate:\", runrate)"
   ]
  },
  {
   "cell_type": "markdown",
   "metadata": {
    "id": "uukQzwZQNwBE"
   },
   "source": [
    "## <u> Problem 8</u>\n",
    "#### You have just received a secret message form your informant stating that some players of the other team are into match fixing. You have to decode a message and inform authorities about it.<br>\n",
    "\n",
    "#### You received a string **\"skdlfjnvuerhw qefnnaosfu qrhviudhfv wuirhv adknlkxjcier vafuvhkajn iuvhsf vasuif KJSHFKJ aeuihvasf akjfhiufe\"** and index of \"i\" are going to be \"no balls\".\n",
    "\n",
    "\n",
    "### Find the first and last no ball from the string."
   ]
  },
  {
   "cell_type": "code",
   "execution_count": 10,
   "metadata": {
    "id": "qJpki-fNJxvr"
   },
   "outputs": [
    {
     "name": "stdout",
     "output_type": "stream",
     "text": [
      "First no ball: 29\n",
      "Last no ball: 104\n"
     ]
    }
   ],
   "source": [
    "message = \"skdlfjnvuerhw qefnnaosfu qrhviudhfv wuirhv adknlkxjcier vafuvhkajn iuvhsf vasuif KJSHFKJ aeuihvasf akjfhiufe\"\n",
    "indices = [i for i, char in enumerate(message) if char == 'i']\n",
    "first_no_ball = indices[0]\n",
    "last_no_ball = indices[-1]\n",
    "print(\"First no ball:\", first_no_ball)\n",
    "print(\"Last no ball:\", last_no_ball)"
   ]
  },
  {
   "cell_type": "markdown",
   "metadata": {
    "id": "dOIGKmlKaV8j"
   },
   "source": [
    "## <u>Problem 9</u>\n",
    "\n",
    "### You have given the information about fixing to the authorities and they are going to verify it during the match. But still you have to work on your strategy.\n",
    "\n",
    "### It is in your hands to automate the decision on who goes on 4th position for batting depending on following criteria:\n",
    "\n",
    "* if runs made by Team Shivalik is less than 50, Smith will play\n",
    "* if runs are between 51 to 100 then Sir Jadeja will go\n",
    "* if runs are above 100 then Hardik will play"
   ]
  },
  {
   "cell_type": "code",
   "execution_count": 11,
   "metadata": {
    "id": "DpnGURU1Y-Af"
   },
   "outputs": [
    {
     "name": "stdout",
     "output_type": "stream",
     "text": [
      "Sir Jadeja will go.\n"
     ]
    }
   ],
   "source": [
    "B_runs = int(input(\"Enter the runs made by Team Shivalik: \"))\n",
    "\n",
    "if B_runs < 50:\n",
    "    print(\"Smith will play.\")\n",
    "elif 51 <= B_runs <= 100:\n",
    "    print(\"Sir Jadeja will go.\")\n",
    "else:\n",
    "    print(\"Hardik will play.\")"
   ]
  },
  {
   "cell_type": "markdown",
   "metadata": {
    "id": "kLakmjOYmKMM"
   },
   "source": [
    "# Hurray! Turns out you won the match and the guilty players are punished as well. You should be proud of yourself!"
   ]
  }
 ],
 "metadata": {
  "colab": {
   "provenance": []
  },
  "kernelspec": {
   "display_name": "Python 3",
   "language": "python",
   "name": "python3"
  },
  "language_info": {
   "codemirror_mode": {
    "name": "ipython",
    "version": 3
   },
   "file_extension": ".py",
   "mimetype": "text/x-python",
   "name": "python",
   "nbconvert_exporter": "python",
   "pygments_lexer": "ipython3",
   "version": "3.12.9"
  }
 },
 "nbformat": 4,
 "nbformat_minor": 1
}
