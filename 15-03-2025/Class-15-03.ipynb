{
 "cells": [
  {
   "cell_type": "code",
   "execution_count": 3,
   "metadata": {},
   "outputs": [
    {
     "name": "stdout",
     "output_type": "stream",
     "text": [
      "Reversed string: dsa\n"
     ]
    }
   ],
   "source": [
    "def string():\n",
    "    user=input(\"enter a string\")\n",
    "    reverse=user[::-1]\n",
    "    print(\"Reversed string:\", reverse)\n",
    "string()"
   ]
  },
  {
   "cell_type": "code",
   "execution_count": 9,
   "metadata": {},
   "outputs": [
    {
     "name": "stdout",
     "output_type": "stream",
     "text": [
      "[5, 8, 12, 15, 7]\n",
      "[1, 4]\n"
     ]
    }
   ],
   "source": [
    "def mindiff(temps):\n",
    "    min_diff=float('inf')\n",
    "    indices=[0,0]\n",
    "    for i in range(len(temps)):\n",
    "        for j in range(i+1,len(temps)):\n",
    "            diff=abs(temps[i]-temps[j])\n",
    "            if diff<min_diff:\n",
    "                min_diff=diff\n",
    "                indices=[i, j]\n",
    "    return indices\n",
    "temperatures=list(map(int,input(\"enter the temperatures\").split()))\n",
    "print(temperatures)\n",
    "print(mindiff(temperatures))\n"
   ]
  }
 ],
 "metadata": {
  "kernelspec": {
   "display_name": "Python 3",
   "language": "python",
   "name": "python3"
  },
  "language_info": {
   "codemirror_mode": {
    "name": "ipython",
    "version": 3
   },
   "file_extension": ".py",
   "mimetype": "text/x-python",
   "name": "python",
   "nbconvert_exporter": "python",
   "pygments_lexer": "ipython3",
   "version": "3.12.9"
  }
 },
 "nbformat": 4,
 "nbformat_minor": 2
}
