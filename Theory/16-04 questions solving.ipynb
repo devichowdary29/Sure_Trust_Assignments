{
 "cells": [
  {
   "cell_type": "markdown",
   "id": "7a3593fe",
   "metadata": {},
   "source": [
    "Create a Pandas DataFrame of shape (5, 4),Fill it with random integers from 10 to 99 using NumPy. Replace all values greater than 50 with NaN."
   ]
  },
  {
   "cell_type": "code",
   "execution_count": 1,
   "id": "2d510c85",
   "metadata": {},
   "outputs": [],
   "source": [
    "import pandas as pd\n",
    "import numpy as np"
   ]
  },
  {
   "cell_type": "code",
   "execution_count": 2,
   "id": "52f12645",
   "metadata": {},
   "outputs": [],
   "source": [
    "df=pd.DataFrame(np.random.randint(10,100,size=(5,4)))"
   ]
  },
  {
   "cell_type": "code",
   "execution_count": 3,
   "id": "6ae9fb3b",
   "metadata": {},
   "outputs": [
    {
     "data": {
      "text/html": [
       "<div>\n",
       "<style scoped>\n",
       "    .dataframe tbody tr th:only-of-type {\n",
       "        vertical-align: middle;\n",
       "    }\n",
       "\n",
       "    .dataframe tbody tr th {\n",
       "        vertical-align: top;\n",
       "    }\n",
       "\n",
       "    .dataframe thead th {\n",
       "        text-align: right;\n",
       "    }\n",
       "</style>\n",
       "<table border=\"1\" class=\"dataframe\">\n",
       "  <thead>\n",
       "    <tr style=\"text-align: right;\">\n",
       "      <th></th>\n",
       "      <th>0</th>\n",
       "      <th>1</th>\n",
       "      <th>2</th>\n",
       "      <th>3</th>\n",
       "    </tr>\n",
       "  </thead>\n",
       "  <tbody>\n",
       "    <tr>\n",
       "      <th>0</th>\n",
       "      <td>40</td>\n",
       "      <td>43</td>\n",
       "      <td>82</td>\n",
       "      <td>11</td>\n",
       "    </tr>\n",
       "    <tr>\n",
       "      <th>1</th>\n",
       "      <td>97</td>\n",
       "      <td>30</td>\n",
       "      <td>57</td>\n",
       "      <td>59</td>\n",
       "    </tr>\n",
       "    <tr>\n",
       "      <th>2</th>\n",
       "      <td>78</td>\n",
       "      <td>93</td>\n",
       "      <td>62</td>\n",
       "      <td>10</td>\n",
       "    </tr>\n",
       "    <tr>\n",
       "      <th>3</th>\n",
       "      <td>97</td>\n",
       "      <td>72</td>\n",
       "      <td>30</td>\n",
       "      <td>98</td>\n",
       "    </tr>\n",
       "    <tr>\n",
       "      <th>4</th>\n",
       "      <td>17</td>\n",
       "      <td>53</td>\n",
       "      <td>33</td>\n",
       "      <td>38</td>\n",
       "    </tr>\n",
       "  </tbody>\n",
       "</table>\n",
       "</div>"
      ],
      "text/plain": [
       "    0   1   2   3\n",
       "0  40  43  82  11\n",
       "1  97  30  57  59\n",
       "2  78  93  62  10\n",
       "3  97  72  30  98\n",
       "4  17  53  33  38"
      ]
     },
     "execution_count": 3,
     "metadata": {},
     "output_type": "execute_result"
    }
   ],
   "source": [
    "df"
   ]
  },
  {
   "cell_type": "code",
   "execution_count": 4,
   "id": "c08eb281",
   "metadata": {},
   "outputs": [],
   "source": [
    "df1=df[df<50]"
   ]
  },
  {
   "cell_type": "code",
   "execution_count": 5,
   "id": "44812556",
   "metadata": {},
   "outputs": [
    {
     "data": {
      "text/html": [
       "<div>\n",
       "<style scoped>\n",
       "    .dataframe tbody tr th:only-of-type {\n",
       "        vertical-align: middle;\n",
       "    }\n",
       "\n",
       "    .dataframe tbody tr th {\n",
       "        vertical-align: top;\n",
       "    }\n",
       "\n",
       "    .dataframe thead th {\n",
       "        text-align: right;\n",
       "    }\n",
       "</style>\n",
       "<table border=\"1\" class=\"dataframe\">\n",
       "  <thead>\n",
       "    <tr style=\"text-align: right;\">\n",
       "      <th></th>\n",
       "      <th>0</th>\n",
       "      <th>1</th>\n",
       "      <th>2</th>\n",
       "      <th>3</th>\n",
       "    </tr>\n",
       "  </thead>\n",
       "  <tbody>\n",
       "    <tr>\n",
       "      <th>0</th>\n",
       "      <td>40.0</td>\n",
       "      <td>43.0</td>\n",
       "      <td>NaN</td>\n",
       "      <td>11.0</td>\n",
       "    </tr>\n",
       "    <tr>\n",
       "      <th>1</th>\n",
       "      <td>NaN</td>\n",
       "      <td>30.0</td>\n",
       "      <td>NaN</td>\n",
       "      <td>NaN</td>\n",
       "    </tr>\n",
       "    <tr>\n",
       "      <th>2</th>\n",
       "      <td>NaN</td>\n",
       "      <td>NaN</td>\n",
       "      <td>NaN</td>\n",
       "      <td>10.0</td>\n",
       "    </tr>\n",
       "    <tr>\n",
       "      <th>3</th>\n",
       "      <td>NaN</td>\n",
       "      <td>NaN</td>\n",
       "      <td>30.0</td>\n",
       "      <td>NaN</td>\n",
       "    </tr>\n",
       "    <tr>\n",
       "      <th>4</th>\n",
       "      <td>17.0</td>\n",
       "      <td>NaN</td>\n",
       "      <td>33.0</td>\n",
       "      <td>38.0</td>\n",
       "    </tr>\n",
       "  </tbody>\n",
       "</table>\n",
       "</div>"
      ],
      "text/plain": [
       "      0     1     2     3\n",
       "0  40.0  43.0   NaN  11.0\n",
       "1   NaN  30.0   NaN   NaN\n",
       "2   NaN   NaN   NaN  10.0\n",
       "3   NaN   NaN  30.0   NaN\n",
       "4  17.0   NaN  33.0  38.0"
      ]
     },
     "execution_count": 5,
     "metadata": {},
     "output_type": "execute_result"
    }
   ],
   "source": [
    "df1"
   ]
  },
  {
   "cell_type": "markdown",
   "id": "e4ef762d",
   "metadata": {},
   "source": [
    "Load the \"Iris\" dataset.Use NumPy to find out how many entries have petal length > 1.5 and sepal width < 3.0."
   ]
  },
  {
   "cell_type": "code",
   "execution_count": 6,
   "id": "af2ae23b",
   "metadata": {},
   "outputs": [],
   "source": [
    "data = {\n",
    "    'sepal_length':[5.1,4.9,6.7,5.6,5.8],\n",
    "    'sepal_width':[3.5,2.8,3.0,2.5,2.6],\n",
    "    'petal_length':[1.4,1.7,4.4,3.9,1.6],\n",
    "    'petal_width':[0.2,0.4,1.4,1.3,0.2]\n",
    "}"
   ]
  },
  {
   "cell_type": "code",
   "execution_count": 9,
   "id": "b3a50856",
   "metadata": {},
   "outputs": [],
   "source": [
    "df=pd.DataFrame(data)\n",
    "arr=df.to_numpy()"
   ]
  },
  {
   "cell_type": "code",
   "execution_count": 11,
   "id": "a1fbbcb9",
   "metadata": {},
   "outputs": [
    {
     "name": "stdout",
     "output_type": "stream",
     "text": [
      "   sepal_length  sepal_width  petal_length  petal_width\n",
      "0           5.1          3.5           1.4          0.2\n",
      "1           4.9          2.8           1.7          0.4\n",
      "2           6.7          3.0           4.4          1.4\n",
      "3           5.6          2.5           3.9          1.3\n",
      "4           5.8          2.6           1.6          0.2\n",
      "[[5.1 3.5 1.4 0.2]\n",
      " [4.9 2.8 1.7 0.4]\n",
      " [6.7 3.  4.4 1.4]\n",
      " [5.6 2.5 3.9 1.3]\n",
      " [5.8 2.6 1.6 0.2]]\n"
     ]
    }
   ],
   "source": [
    "print(df)\n",
    "print(arr)"
   ]
  },
  {
   "cell_type": "code",
   "execution_count": 13,
   "id": "047cb2f7",
   "metadata": {},
   "outputs": [
    {
     "data": {
      "text/plain": [
       "3"
      ]
     },
     "execution_count": 13,
     "metadata": {},
     "output_type": "execute_result"
    }
   ],
   "source": [
    "mask = (df[\"petal_length\"].values > 1.5) & (df[\"sepal_width\"].values < 3.0)\n",
    "np.sum(mask)"
   ]
  },
  {
   "cell_type": "markdown",
   "id": "38368104",
   "metadata": {},
   "source": [
    "Generate a NumPy array of shape (6, 3) from a normal distribution. Add this array as new columns \"col_A\", \"col_B\", \"col_C\" to an empty DataFrame."
   ]
  },
  {
   "cell_type": "code",
   "execution_count": 18,
   "id": "2f5ee190",
   "metadata": {},
   "outputs": [
    {
     "name": "stdout",
     "output_type": "stream",
     "text": [
      "      col_A     col_B     col_C\n",
      "0 -0.270867 -0.728189  0.401367\n",
      "1 -0.560520  0.026303  0.103725\n",
      "2 -1.603880 -1.690843 -1.844806\n",
      "3 -0.174218  0.564413 -0.400879\n",
      "4  0.575409  0.538586  0.277586\n",
      "5 -0.436742 -0.600538  0.743374\n"
     ]
    }
   ],
   "source": [
    "normal_array=np.random.randn(6, 3)\n",
    "new_df=pd.DataFrame()\n",
    "new_df[['col_A','col_B','col_C']]=normal_array\n",
    "print(new_df)"
   ]
  },
  {
   "cell_type": "markdown",
   "id": "c7b77b46",
   "metadata": {},
   "source": [
    "create a NumPy array of shape (4, 4),Use broadcasting to subtract the mean of each column from the respective column, and insert the result into a new DataFrame."
   ]
  },
  {
   "cell_type": "code",
   "execution_count": 20,
   "id": "ff00752f",
   "metadata": {},
   "outputs": [],
   "source": [
    "matrix=np.random.randint(1,10,size=(4,4))\n",
    "col_means=matrix.mean(axis=0)\n",
    "centered_matrix=matrix-col_means\n",
    "centered_df= pd.DataFrame(centered_matrix,columns=['A','B','C','D'])"
   ]
  },
  {
   "cell_type": "code",
   "execution_count": 21,
   "id": "abc13d0f",
   "metadata": {},
   "outputs": [
    {
     "name": "stdout",
     "output_type": "stream",
     "text": [
      "     A     B    C     D\n",
      "0  1.5  1.25 -0.5 -0.25\n",
      "1  0.5 -0.75  4.5  0.75\n",
      "2  1.5 -1.75 -1.5 -3.25\n",
      "3 -3.5  1.25 -2.5  2.75\n"
     ]
    }
   ],
   "source": [
    "print(centered_df)"
   ]
  },
  {
   "cell_type": "markdown",
   "id": "c868acc9",
   "metadata": {},
   "source": [
    "Create a DataFrame with columns \"A\" and \"B\" of size 6, Use NumPy to calculate the row-wise maximum and add it as a column \"Max_Val\""
   ]
  },
  {
   "cell_type": "code",
   "execution_count": 22,
   "id": "880f4fc0",
   "metadata": {},
   "outputs": [
    {
     "name": "stdout",
     "output_type": "stream",
     "text": [
      "          A         B   Max_Val\n",
      "0  0.833936 -0.930386  0.833936\n",
      "1  0.289130 -0.001986  0.289130\n",
      "2 -0.104988  0.288903  0.288903\n",
      "3 -1.752557 -1.956498 -1.752557\n",
      "4 -1.649663  0.319895  0.319895\n",
      "5  1.110477 -0.225138  1.110477\n",
      "          A         B   Max_Val\n",
      "0  0.833936 -0.930386  0.833936\n",
      "1  0.289130 -0.001986  0.289130\n",
      "2 -0.104988  0.288903  0.288903\n",
      "3 -1.752557 -1.956498 -1.752557\n",
      "4 -1.649663  0.319895  0.319895\n",
      "5  1.110477 -0.225138  1.110477\n"
     ]
    }
   ],
   "source": [
    "df = pd.DataFrame(np.random.randn(6, 2), columns=['A', 'B'])\n",
    "df['Max_Val'] = np.maximum(df['A'], df['B'])\n",
    "\n",
    "print(df)\n",
    "print(df)"
   ]
  }
 ],
 "metadata": {
  "kernelspec": {
   "display_name": "base",
   "language": "python",
   "name": "python3"
  },
  "language_info": {
   "codemirror_mode": {
    "name": "ipython",
    "version": 3
   },
   "file_extension": ".py",
   "mimetype": "text/x-python",
   "name": "python",
   "nbconvert_exporter": "python",
   "pygments_lexer": "ipython3",
   "version": "3.12.4"
  }
 },
 "nbformat": 4,
 "nbformat_minor": 5
}
