{
 "cells": [
  {
   "cell_type": "code",
   "execution_count": 1,
   "id": "e8108fb3",
   "metadata": {},
   "outputs": [],
   "source": [
    "import numpy as np"
   ]
  },
  {
   "cell_type": "code",
   "execution_count": 2,
   "id": "e1954350",
   "metadata": {},
   "outputs": [
    {
     "name": "stdout",
     "output_type": "stream",
     "text": [
      "[10 40 50 60]\n"
     ]
    }
   ],
   "source": [
    "#Create a numpy array\n",
    "\n",
    "a = np.array([10,40,50,60])\n",
    "print(a)"
   ]
  },
  {
   "cell_type": "code",
   "execution_count": 3,
   "id": "ed2fe840",
   "metadata": {},
   "outputs": [
    {
     "name": "stdout",
     "output_type": "stream",
     "text": [
      "[[5 6]\n",
      " [7 8]]\n"
     ]
    }
   ],
   "source": [
    "#2d array\n",
    "\n",
    "a = np.array([[5,6],[7,8]])\n",
    "print(a)"
   ]
  },
  {
   "cell_type": "code",
   "execution_count": 5,
   "id": "4845b816",
   "metadata": {},
   "outputs": [
    {
     "name": "stdout",
     "output_type": "stream",
     "text": [
      "[[[ 5  6]\n",
      "  [ 7  8]]\n",
      "\n",
      " [[10 12]\n",
      "  [25 30]]]\n"
     ]
    }
   ],
   "source": [
    "#3d array\n",
    "\n",
    "a = np.array([[[5,6],[7,8]],[[10,12],[25,30]]])\n",
    "print(a)"
   ]
  },
  {
   "cell_type": "code",
   "execution_count": 6,
   "id": "88536e8b",
   "metadata": {},
   "outputs": [
    {
     "data": {
      "text/plain": [
       "array([0., 0., 0.])"
      ]
     },
     "execution_count": 6,
     "metadata": {},
     "output_type": "execute_result"
    }
   ],
   "source": [
    "#Special arrays\n",
    "\n",
    "np.zeros(3)"
   ]
  },
  {
   "cell_type": "code",
   "execution_count": 8,
   "id": "82c4f87c",
   "metadata": {},
   "outputs": [
    {
     "data": {
      "text/plain": [
       "array([[0., 0., 0.],\n",
       "       [0., 0., 0.]])"
      ]
     },
     "execution_count": 8,
     "metadata": {},
     "output_type": "execute_result"
    }
   ],
   "source": [
    "np.zeros((2,3))"
   ]
  },
  {
   "cell_type": "code",
   "execution_count": 9,
   "id": "3d766e60",
   "metadata": {},
   "outputs": [
    {
     "data": {
      "text/plain": [
       "array([1., 1., 1.])"
      ]
     },
     "execution_count": 9,
     "metadata": {},
     "output_type": "execute_result"
    }
   ],
   "source": [
    "np.ones(3)"
   ]
  },
  {
   "cell_type": "code",
   "execution_count": 10,
   "id": "6feacb42",
   "metadata": {},
   "outputs": [
    {
     "data": {
      "text/plain": [
       "array([[1., 1., 1., 1., 1.],\n",
       "       [1., 1., 1., 1., 1.],\n",
       "       [1., 1., 1., 1., 1.],\n",
       "       [1., 1., 1., 1., 1.]])"
      ]
     },
     "execution_count": 10,
     "metadata": {},
     "output_type": "execute_result"
    }
   ],
   "source": [
    "np.ones((4,5))"
   ]
  },
  {
   "cell_type": "code",
   "execution_count": 11,
   "id": "9c9d23d4",
   "metadata": {},
   "outputs": [
    {
     "data": {
      "text/plain": [
       "array([[1., 0., 0.],\n",
       "       [0., 1., 0.],\n",
       "       [0., 0., 1.]])"
      ]
     },
     "execution_count": 11,
     "metadata": {},
     "output_type": "execute_result"
    }
   ],
   "source": [
    "np.eye(3)"
   ]
  },
  {
   "cell_type": "code",
   "execution_count": 12,
   "id": "7b2d8124",
   "metadata": {},
   "outputs": [
    {
     "data": {
      "text/plain": [
       "array([[1, 0, 0, 0, 0, 0],\n",
       "       [0, 2, 0, 0, 0, 0],\n",
       "       [0, 0, 3, 0, 0, 0],\n",
       "       [0, 0, 0, 5, 0, 0],\n",
       "       [0, 0, 0, 0, 6, 0],\n",
       "       [0, 0, 0, 0, 0, 7]])"
      ]
     },
     "execution_count": 12,
     "metadata": {},
     "output_type": "execute_result"
    }
   ],
   "source": [
    "np.diag([1,2,3,5,6,7])"
   ]
  },
  {
   "cell_type": "code",
   "execution_count": 13,
   "id": "56e1e2c3",
   "metadata": {},
   "outputs": [
    {
     "data": {
      "text/plain": [
       "array([0, 1, 2, 3, 4])"
      ]
     },
     "execution_count": 13,
     "metadata": {},
     "output_type": "execute_result"
    }
   ],
   "source": [
    "np.arange(5)"
   ]
  },
  {
   "cell_type": "code",
   "execution_count": 14,
   "id": "a42db126",
   "metadata": {},
   "outputs": [
    {
     "data": {
      "text/plain": [
       "array([10, 11, 12, 13, 14, 15, 16, 17, 18, 19, 20, 21, 22, 23, 24, 25, 26,\n",
       "       27, 28, 29, 30, 31, 32, 33, 34, 35, 36, 37, 38, 39, 40, 41, 42, 43,\n",
       "       44, 45, 46, 47, 48, 49, 50, 51, 52, 53, 54, 55, 56, 57, 58, 59, 60,\n",
       "       61, 62, 63, 64, 65, 66, 67, 68, 69, 70, 71, 72, 73, 74, 75, 76, 77,\n",
       "       78, 79, 80, 81, 82, 83, 84, 85, 86, 87, 88, 89, 90, 91, 92, 93, 94,\n",
       "       95, 96, 97, 98, 99])"
      ]
     },
     "execution_count": 14,
     "metadata": {},
     "output_type": "execute_result"
    }
   ],
   "source": [
    "np.arange(10,100)"
   ]
  },
  {
   "cell_type": "code",
   "execution_count": 15,
   "id": "52640723",
   "metadata": {},
   "outputs": [
    {
     "data": {
      "text/plain": [
       "array([10, 20, 30, 40, 50, 60, 70, 80, 90])"
      ]
     },
     "execution_count": 15,
     "metadata": {},
     "output_type": "execute_result"
    }
   ],
   "source": [
    "np.arange(10,100,10)"
   ]
  },
  {
   "cell_type": "code",
   "execution_count": 16,
   "id": "e8e2dc6d",
   "metadata": {},
   "outputs": [
    {
     "data": {
      "text/plain": [
       "array([10.        , 15.71428571, 21.42857143, 27.14285714, 32.85714286,\n",
       "       38.57142857, 44.28571429, 50.        ])"
      ]
     },
     "execution_count": 16,
     "metadata": {},
     "output_type": "execute_result"
    }
   ],
   "source": [
    "np.linspace(10,50,8)"
   ]
  },
  {
   "cell_type": "code",
   "execution_count": 17,
   "id": "8b4b7908",
   "metadata": {},
   "outputs": [],
   "source": [
    "#Rank/shape of the matrix\n",
    "\n",
    "a = np.array([[3,4],[30,40]])"
   ]
  },
  {
   "cell_type": "code",
   "execution_count": 19,
   "id": "36e7b1b0",
   "metadata": {},
   "outputs": [
    {
     "data": {
      "text/plain": [
       "(2, 2)"
      ]
     },
     "execution_count": 19,
     "metadata": {},
     "output_type": "execute_result"
    }
   ],
   "source": [
    "a.shape #rank of the matrix"
   ]
  },
  {
   "cell_type": "code",
   "execution_count": 20,
   "id": "6a50ea45",
   "metadata": {},
   "outputs": [
    {
     "name": "stdout",
     "output_type": "stream",
     "text": [
      "[[ 3  4]\n",
      " [30 40]]\n"
     ]
    }
   ],
   "source": [
    "print(a)"
   ]
  },
  {
   "cell_type": "code",
   "execution_count": 21,
   "id": "8d90ba15",
   "metadata": {},
   "outputs": [
    {
     "data": {
      "text/plain": [
       "2"
      ]
     },
     "execution_count": 21,
     "metadata": {},
     "output_type": "execute_result"
    }
   ],
   "source": [
    "a.ndim #number of dimensions"
   ]
  },
  {
   "cell_type": "code",
   "execution_count": 22,
   "id": "e4a9b214",
   "metadata": {},
   "outputs": [
    {
     "data": {
      "text/plain": [
       "3"
      ]
     },
     "execution_count": 22,
     "metadata": {},
     "output_type": "execute_result"
    }
   ],
   "source": [
    "a = np.array([[[5,6],[7,8]],[[10,12],[25,30]]])\n",
    "a.ndim"
   ]
  },
  {
   "cell_type": "code",
   "execution_count": null,
   "id": "e6f17d8b",
   "metadata": {},
   "outputs": [
    {
     "data": {
      "text/plain": [
       "8"
      ]
     },
     "execution_count": 23,
     "metadata": {},
     "output_type": "execute_result"
    }
   ],
   "source": [
    "a.size #no. of elements in the matrix"
   ]
  },
  {
   "cell_type": "code",
   "execution_count": 24,
   "id": "60c1e9e2",
   "metadata": {},
   "outputs": [
    {
     "data": {
      "text/plain": [
       "dtype('int32')"
      ]
     },
     "execution_count": 24,
     "metadata": {},
     "output_type": "execute_result"
    }
   ],
   "source": [
    "a.dtype #return the data type of the matrix"
   ]
  },
  {
   "cell_type": "code",
   "execution_count": 27,
   "id": "c9ab6296",
   "metadata": {},
   "outputs": [
    {
     "name": "stdout",
     "output_type": "stream",
     "text": [
      "time taken using the list: 0.258 seconds\n"
     ]
    }
   ],
   "source": [
    "#why it is better than lists in the calculation of mathematical functions\n",
    "\n",
    "import time\n",
    "\n",
    "lst = list(range(1000000))\n",
    "start_pt = time.time()\n",
    "lst2 = [2*item for item in lst]\n",
    "print(f\"time taken using the list: {round(time.time()-start_pt,3)} seconds\")"
   ]
  },
  {
   "cell_type": "code",
   "execution_count": 28,
   "id": "fdc1a8fa",
   "metadata": {},
   "outputs": [
    {
     "name": "stdout",
     "output_type": "stream",
     "text": [
      "time taken using the numpy array: 0.002 seconds\n"
     ]
    }
   ],
   "source": [
    "arr = np.arange(1000000)\n",
    "start_pt = time.time()\n",
    "arr2 = arr*2\n",
    "print(f\"time taken using the numpy array: {round(time.time()-start_pt,3)} seconds\")"
   ]
  },
  {
   "cell_type": "code",
   "execution_count": 1,
   "id": "c4c13cd3",
   "metadata": {},
   "outputs": [],
   "source": [
    "import numpy as np"
   ]
  },
  {
   "cell_type": "code",
   "execution_count": 2,
   "id": "4b24bc32",
   "metadata": {},
   "outputs": [
    {
     "name": "stdout",
     "output_type": "stream",
     "text": [
      "[ 23  34  56  67  89 -76  54  21   0]\n"
     ]
    }
   ],
   "source": [
    "arr = np.array([23,34,56,67,89,-76,54,21,0])\n",
    "print(arr)"
   ]
  },
  {
   "cell_type": "code",
   "execution_count": 3,
   "id": "73fd4ff2",
   "metadata": {},
   "outputs": [
    {
     "data": {
      "text/plain": [
       "56"
      ]
     },
     "execution_count": 3,
     "metadata": {},
     "output_type": "execute_result"
    }
   ],
   "source": [
    "arr[2]"
   ]
  },
  {
   "cell_type": "code",
   "execution_count": 4,
   "id": "2a682efe",
   "metadata": {},
   "outputs": [
    {
     "data": {
      "text/plain": [
       "89"
      ]
     },
     "execution_count": 4,
     "metadata": {},
     "output_type": "execute_result"
    }
   ],
   "source": [
    "arr[-5]"
   ]
  },
  {
   "cell_type": "code",
   "execution_count": 5,
   "id": "a1b5311c",
   "metadata": {},
   "outputs": [
    {
     "data": {
      "text/plain": [
       "array([ 56,  67,  89, -76])"
      ]
     },
     "execution_count": 5,
     "metadata": {},
     "output_type": "execute_result"
    }
   ],
   "source": [
    "arr[2:6]"
   ]
  },
  {
   "cell_type": "code",
   "execution_count": 6,
   "id": "ab9d1cc4",
   "metadata": {},
   "outputs": [
    {
     "data": {
      "text/plain": [
       "array([ 34,  56,  67,  89, -76])"
      ]
     },
     "execution_count": 6,
     "metadata": {},
     "output_type": "execute_result"
    }
   ],
   "source": [
    "arr[-8:-3]"
   ]
  },
  {
   "cell_type": "code",
   "execution_count": 9,
   "id": "da49fe8e",
   "metadata": {},
   "outputs": [
    {
     "name": "stdout",
     "output_type": "stream",
     "text": [
      "[[ 23   1  -5   4  34   1]\n",
      " [ 12  23   5   6   0   3]\n",
      " [  9   8   7   6   5  32]\n",
      " [  1  -1 -34  12   2   7]]\n"
     ]
    }
   ],
   "source": [
    "arr = np.array([[23,1,-5,4,34,1],[12,23,5,6,0,3],[9,8,7,6,5,32],[1,-1,-34,12,2,7]])\n",
    "print(arr)"
   ]
  },
  {
   "cell_type": "code",
   "execution_count": 10,
   "id": "694e7e16",
   "metadata": {},
   "outputs": [
    {
     "data": {
      "text/plain": [
       "6"
      ]
     },
     "execution_count": 10,
     "metadata": {},
     "output_type": "execute_result"
    }
   ],
   "source": [
    "arr[2,3]"
   ]
  },
  {
   "cell_type": "code",
   "execution_count": 11,
   "id": "05882d79",
   "metadata": {},
   "outputs": [
    {
     "data": {
      "text/plain": [
       "3"
      ]
     },
     "execution_count": 11,
     "metadata": {},
     "output_type": "execute_result"
    }
   ],
   "source": [
    "arr[1,5]"
   ]
  },
  {
   "cell_type": "code",
   "execution_count": 12,
   "id": "6c17c4fe",
   "metadata": {},
   "outputs": [
    {
     "data": {
      "text/plain": [
       "array([[  1,  -1, -34,  12,   2,   7]])"
      ]
     },
     "execution_count": 12,
     "metadata": {},
     "output_type": "execute_result"
    }
   ],
   "source": [
    "arr[3:]"
   ]
  },
  {
   "cell_type": "code",
   "execution_count": 15,
   "id": "53424713",
   "metadata": {},
   "outputs": [
    {
     "data": {
      "text/plain": [
       "array([ -5,   5,   7, -34])"
      ]
     },
     "execution_count": 15,
     "metadata": {},
     "output_type": "execute_result"
    }
   ],
   "source": [
    "arr[:,2]"
   ]
  },
  {
   "cell_type": "code",
   "execution_count": 16,
   "id": "7e308ad8",
   "metadata": {},
   "outputs": [
    {
     "data": {
      "text/plain": [
       "array([ 4,  6,  6, 12])"
      ]
     },
     "execution_count": 16,
     "metadata": {},
     "output_type": "execute_result"
    }
   ],
   "source": [
    "arr[:,3]"
   ]
  },
  {
   "cell_type": "code",
   "execution_count": 17,
   "id": "50a5b4e7",
   "metadata": {},
   "outputs": [
    {
     "data": {
      "text/plain": [
       "array([ 6,  6, 12])"
      ]
     },
     "execution_count": 17,
     "metadata": {},
     "output_type": "execute_result"
    }
   ],
   "source": [
    "arr[1:,3]"
   ]
  },
  {
   "cell_type": "code",
   "execution_count": 18,
   "id": "1e86a9df",
   "metadata": {},
   "outputs": [
    {
     "name": "stdout",
     "output_type": "stream",
     "text": [
      "[ 23  34  56  67  89 -76  54  21   0]\n"
     ]
    }
   ],
   "source": [
    "arr = np.array([23,34,56,67,89,-76,54,21,0])\n",
    "print(arr)"
   ]
  },
  {
   "cell_type": "code",
   "execution_count": null,
   "id": "c8fdb643",
   "metadata": {},
   "outputs": [
    {
     "data": {
      "text/plain": [
       "array([ True,  True,  True,  True,  True, False,  True,  True, False])"
      ]
     },
     "execution_count": 19,
     "metadata": {},
     "output_type": "execute_result"
    }
   ],
   "source": [
    "arr>10 #boolean indexing"
   ]
  },
  {
   "cell_type": "code",
   "execution_count": 20,
   "id": "51c0ade1",
   "metadata": {},
   "outputs": [
    {
     "data": {
      "text/plain": [
       "array([False, False, False, False, False, False, False, False, False])"
      ]
     },
     "execution_count": 20,
     "metadata": {},
     "output_type": "execute_result"
    }
   ],
   "source": [
    "arr==15"
   ]
  },
  {
   "cell_type": "code",
   "execution_count": 21,
   "id": "a82efe93",
   "metadata": {},
   "outputs": [
    {
     "data": {
      "text/plain": [
       "array([23, 34, 56, 67, 89, 54, 21])"
      ]
     },
     "execution_count": 21,
     "metadata": {},
     "output_type": "execute_result"
    }
   ],
   "source": [
    "arr[arr>10]"
   ]
  },
  {
   "cell_type": "code",
   "execution_count": null,
   "id": "9ad74ad2",
   "metadata": {},
   "outputs": [
    {
     "data": {
      "text/plain": [
       "array([-76])"
      ]
     },
     "execution_count": 22,
     "metadata": {},
     "output_type": "execute_result"
    }
   ],
   "source": [
    "arr[arr<0] #View"
   ]
  },
  {
   "cell_type": "code",
   "execution_count": null,
   "id": "7de7045b",
   "metadata": {},
   "outputs": [
    {
     "data": {
      "text/plain": [
       "array([ 25,  36,  58,  69,  91, -74,  56,  23,   2])"
      ]
     },
     "execution_count": 23,
     "metadata": {},
     "output_type": "execute_result"
    }
   ],
   "source": [
    "#Arthematic Operations\n",
    "\n",
    "arr+2 #[ 23  34  56  67  89 -76  54  21   0]"
   ]
  },
  {
   "cell_type": "code",
   "execution_count": 24,
   "id": "9d942aa1",
   "metadata": {},
   "outputs": [
    {
     "data": {
      "text/plain": [
       "array([ 230,  340,  560,  670,  890, -760,  540,  210,    0])"
      ]
     },
     "execution_count": 24,
     "metadata": {},
     "output_type": "execute_result"
    }
   ],
   "source": [
    "arr*10"
   ]
  },
  {
   "cell_type": "code",
   "execution_count": 25,
   "id": "e6b78575",
   "metadata": {},
   "outputs": [
    {
     "data": {
      "text/plain": [
       "array([  4.6,   6.8,  11.2,  13.4,  17.8, -15.2,  10.8,   4.2,   0. ])"
      ]
     },
     "execution_count": 25,
     "metadata": {},
     "output_type": "execute_result"
    }
   ],
   "source": [
    "arr/5"
   ]
  },
  {
   "cell_type": "code",
   "execution_count": 26,
   "id": "ffdb366a",
   "metadata": {},
   "outputs": [
    {
     "data": {
      "text/plain": [
       "array([  12167,   39304,  175616,  300763,  704969, -438976,  157464,\n",
       "          9261,       0], dtype=int32)"
      ]
     },
     "execution_count": 26,
     "metadata": {},
     "output_type": "execute_result"
    }
   ],
   "source": [
    "arr**3"
   ]
  },
  {
   "cell_type": "code",
   "execution_count": 27,
   "id": "3af06ab6",
   "metadata": {},
   "outputs": [
    {
     "data": {
      "text/plain": [
       "array([5.83095189, 3.46410162, 2.        , 2.23606798, 9.43398113,\n",
       "       1.41421356, 8.71779789])"
      ]
     },
     "execution_count": 27,
     "metadata": {},
     "output_type": "execute_result"
    }
   ],
   "source": [
    "#mathematical operations\n",
    "\n",
    "arr = np.array([34,12,4,5,89,2,76])\n",
    "\n",
    "np.sqrt(arr)"
   ]
  },
  {
   "cell_type": "code",
   "execution_count": 28,
   "id": "8edba429",
   "metadata": {},
   "outputs": [
    {
     "data": {
      "text/plain": [
       "array([5.83461743e+14, 1.62754791e+05, 5.45981500e+01, 1.48413159e+02,\n",
       "       4.48961282e+38, 7.38905610e+00, 1.01480039e+33])"
      ]
     },
     "execution_count": 28,
     "metadata": {},
     "output_type": "execute_result"
    }
   ],
   "source": [
    "np.exp(arr)"
   ]
  },
  {
   "cell_type": "code",
   "execution_count": 30,
   "id": "586da160",
   "metadata": {},
   "outputs": [
    {
     "data": {
      "text/plain": [
       "array([34, 90, 21, 34, 76])"
      ]
     },
     "execution_count": 30,
     "metadata": {},
     "output_type": "execute_result"
    }
   ],
   "source": [
    "arr = np.array([34,-90,21,34,-76])\n",
    "np.abs(arr)"
   ]
  },
  {
   "cell_type": "code",
   "execution_count": 31,
   "id": "bff8e261",
   "metadata": {},
   "outputs": [],
   "source": [
    "#Broadcasting\n",
    "\n",
    "arr1 = np.array([[23,54,67],[1,5,7],[0,9,8]])\n",
    "arr2 = np.array([40,50,70])"
   ]
  },
  {
   "cell_type": "code",
   "execution_count": 57,
   "id": "fac4efec",
   "metadata": {},
   "outputs": [
    {
     "data": {
      "text/plain": [
       "array([[23, 54, 67],\n",
       "       [ 1,  5,  7],\n",
       "       [ 0,  9,  8]])"
      ]
     },
     "execution_count": 57,
     "metadata": {},
     "output_type": "execute_result"
    }
   ],
   "source": [
    "arr1"
   ]
  },
  {
   "cell_type": "code",
   "execution_count": 58,
   "id": "0d56111c",
   "metadata": {},
   "outputs": [
    {
     "data": {
      "text/plain": [
       "array([[23,  1,  0],\n",
       "       [54,  5,  9],\n",
       "       [67,  7,  8]])"
      ]
     },
     "execution_count": 58,
     "metadata": {},
     "output_type": "execute_result"
    }
   ],
   "source": [
    "arr1.T"
   ]
  },
  {
   "cell_type": "code",
   "execution_count": 59,
   "id": "3bf0f998",
   "metadata": {},
   "outputs": [
    {
     "data": {
      "text/plain": [
       "array([40, 50, 70])"
      ]
     },
     "execution_count": 59,
     "metadata": {},
     "output_type": "execute_result"
    }
   ],
   "source": [
    "arr2"
   ]
  },
  {
   "cell_type": "code",
   "execution_count": 60,
   "id": "ff9c1d94",
   "metadata": {},
   "outputs": [
    {
     "data": {
      "text/plain": [
       "array([40, 50, 70])"
      ]
     },
     "execution_count": 60,
     "metadata": {},
     "output_type": "execute_result"
    }
   ],
   "source": [
    "arr2.T"
   ]
  },
  {
   "cell_type": "code",
   "execution_count": 32,
   "id": "28f21e12",
   "metadata": {},
   "outputs": [
    {
     "data": {
      "text/plain": [
       "(3, 3)"
      ]
     },
     "execution_count": 32,
     "metadata": {},
     "output_type": "execute_result"
    }
   ],
   "source": [
    "arr1.shape"
   ]
  },
  {
   "cell_type": "code",
   "execution_count": 44,
   "id": "df18c49f",
   "metadata": {},
   "outputs": [
    {
     "data": {
      "text/plain": [
       "(3,)"
      ]
     },
     "execution_count": 44,
     "metadata": {},
     "output_type": "execute_result"
    }
   ],
   "source": [
    "arr2.shape"
   ]
  },
  {
   "cell_type": "code",
   "execution_count": 45,
   "id": "dc27eeb1",
   "metadata": {},
   "outputs": [],
   "source": [
    "b = arr2.reshape(1,3)"
   ]
  },
  {
   "cell_type": "code",
   "execution_count": 46,
   "id": "d23abdb4",
   "metadata": {},
   "outputs": [
    {
     "data": {
      "text/plain": [
       "(1, 3)"
      ]
     },
     "execution_count": 46,
     "metadata": {},
     "output_type": "execute_result"
    }
   ],
   "source": [
    "b.shape"
   ]
  },
  {
   "cell_type": "code",
   "execution_count": 43,
   "id": "d2947919",
   "metadata": {},
   "outputs": [
    {
     "data": {
      "text/plain": [
       "2"
      ]
     },
     "execution_count": 43,
     "metadata": {},
     "output_type": "execute_result"
    }
   ],
   "source": [
    "arr2.reshape(1,3).ndim"
   ]
  },
  {
   "cell_type": "code",
   "execution_count": 34,
   "id": "a317bfa2",
   "metadata": {},
   "outputs": [
    {
     "data": {
      "text/plain": [
       "array([[ 63, 104, 137],\n",
       "       [ 41,  55,  77],\n",
       "       [ 40,  59,  78]])"
      ]
     },
     "execution_count": 34,
     "metadata": {},
     "output_type": "execute_result"
    }
   ],
   "source": [
    "arr1+arr2"
   ]
  },
  {
   "cell_type": "code",
   "execution_count": 47,
   "id": "8c697fd7",
   "metadata": {},
   "outputs": [
    {
     "data": {
      "text/plain": [
       "array([[ 63, 104, 137],\n",
       "       [ 41,  55,  77],\n",
       "       [ 40,  59,  78]])"
      ]
     },
     "execution_count": 47,
     "metadata": {},
     "output_type": "execute_result"
    }
   ],
   "source": [
    "arr1+b"
   ]
  },
  {
   "cell_type": "code",
   "execution_count": 48,
   "id": "b54708ee",
   "metadata": {},
   "outputs": [
    {
     "data": {
      "text/plain": [
       "18"
      ]
     },
     "execution_count": 48,
     "metadata": {},
     "output_type": "execute_result"
    }
   ],
   "source": [
    "a = np.array([1,3,4,6,78,2,65,678,8,32,5667,1,0,434,5,1,667,343])\n",
    "a.size"
   ]
  },
  {
   "cell_type": "code",
   "execution_count": 49,
   "id": "b017273e",
   "metadata": {},
   "outputs": [
    {
     "data": {
      "text/plain": [
       "1"
      ]
     },
     "execution_count": 49,
     "metadata": {},
     "output_type": "execute_result"
    }
   ],
   "source": [
    "a.ndim"
   ]
  },
  {
   "cell_type": "code",
   "execution_count": 50,
   "id": "4cee3e7c",
   "metadata": {},
   "outputs": [
    {
     "name": "stdout",
     "output_type": "stream",
     "text": [
      "[[   1    3    4    6   78    2   65  678    8]\n",
      " [  32 5667    1    0  434    5    1  667  343]]\n"
     ]
    }
   ],
   "source": [
    "b = a.reshape(2,9)\n",
    "print(b)"
   ]
  },
  {
   "cell_type": "code",
   "execution_count": 52,
   "id": "22581895",
   "metadata": {},
   "outputs": [
    {
     "name": "stdout",
     "output_type": "stream",
     "text": [
      "[[   1    3    4    6   78    2]\n",
      " [  65  678    8   32 5667    1]\n",
      " [   0  434    5    1  667  343]]\n"
     ]
    }
   ],
   "source": [
    "c = a.reshape(3,6)\n",
    "print(c)"
   ]
  },
  {
   "cell_type": "code",
   "execution_count": 54,
   "id": "b3fdbad0",
   "metadata": {},
   "outputs": [
    {
     "name": "stdout",
     "output_type": "stream",
     "text": [
      "[[   1    3    4]\n",
      " [   6   78    2]\n",
      " [  65  678    8]\n",
      " [  32 5667    1]\n",
      " [   0  434    5]\n",
      " [   1  667  343]]\n"
     ]
    }
   ],
   "source": [
    "d = a.reshape(6,3)\n",
    "print(d)"
   ]
  },
  {
   "cell_type": "code",
   "execution_count": null,
   "id": "464cefa3",
   "metadata": {},
   "outputs": [
    {
     "name": "stdout",
     "output_type": "stream",
     "text": [
      "[[[   1    3    4]\n",
      "  [   6   78    2]\n",
      "  [  65  678    8]]\n",
      "\n",
      " [[  32 5667    1]\n",
      "  [   0  434    5]\n",
      "  [   1  667  343]]]\n"
     ]
    }
   ],
   "source": [
    "e = a.reshape(2,3,3) #view\n",
    "print(e)"
   ]
  },
  {
   "cell_type": "code",
   "execution_count": 56,
   "id": "3729445c",
   "metadata": {},
   "outputs": [
    {
     "data": {
      "text/plain": [
       "3"
      ]
     },
     "execution_count": 56,
     "metadata": {},
     "output_type": "execute_result"
    }
   ],
   "source": [
    "e.ndim"
   ]
  },
  {
   "cell_type": "code",
   "execution_count": 1,
   "id": "ffb8d27a",
   "metadata": {},
   "outputs": [],
   "source": [
    "import numpy as np"
   ]
  },
  {
   "cell_type": "code",
   "execution_count": 4,
   "id": "8bcf148f",
   "metadata": {},
   "outputs": [
    {
     "name": "stdout",
     "output_type": "stream",
     "text": [
      "[ 2  4  6 89  9  1  2 23 65  2 90  8]\n"
     ]
    }
   ],
   "source": [
    "a = np.array([2,4,6,89,9,1,2,23,65,2,90,8])\n",
    "print(a)"
   ]
  },
  {
   "cell_type": "code",
   "execution_count": 5,
   "id": "9901dba8",
   "metadata": {},
   "outputs": [
    {
     "name": "stdout",
     "output_type": "stream",
     "text": [
      "[[ 2  4  6 89]\n",
      " [ 9  1  2 23]\n",
      " [65  2 90  8]]\n"
     ]
    }
   ],
   "source": [
    "b = a.reshape(3,4)\n",
    "print(b)"
   ]
  },
  {
   "cell_type": "code",
   "execution_count": 6,
   "id": "04f91589",
   "metadata": {},
   "outputs": [],
   "source": [
    "a[2] = 300"
   ]
  },
  {
   "cell_type": "code",
   "execution_count": 7,
   "id": "3591a419",
   "metadata": {},
   "outputs": [
    {
     "name": "stdout",
     "output_type": "stream",
     "text": [
      "[  2   4 300  89   9   1   2  23  65   2  90   8]\n"
     ]
    }
   ],
   "source": [
    "print(a)"
   ]
  },
  {
   "cell_type": "code",
   "execution_count": 8,
   "id": "c7e35224",
   "metadata": {},
   "outputs": [
    {
     "name": "stdout",
     "output_type": "stream",
     "text": [
      "[[  2   4 300  89]\n",
      " [  9   1   2  23]\n",
      " [ 65   2  90   8]]\n"
     ]
    }
   ],
   "source": [
    "print(b)"
   ]
  },
  {
   "cell_type": "code",
   "execution_count": 14,
   "id": "ec10b268",
   "metadata": {},
   "outputs": [
    {
     "name": "stdout",
     "output_type": "stream",
     "text": [
      "[[  2   4 300  89]\n",
      " [  9   1   2  23]\n",
      " [ 65   2  90   8]]\n"
     ]
    }
   ],
   "source": [
    "a.resize(3,4)\n",
    "c = a\n",
    "print(c)"
   ]
  },
  {
   "cell_type": "code",
   "execution_count": 16,
   "id": "4f347b34",
   "metadata": {},
   "outputs": [
    {
     "name": "stdout",
     "output_type": "stream",
     "text": [
      "[ 1  2  3  5  6  7 89  9 10 11 12 13]\n"
     ]
    }
   ],
   "source": [
    "arr = np.array([1,2,3,5,6,7,89,9,10,11,12,13])\n",
    "print(arr)"
   ]
  },
  {
   "cell_type": "code",
   "execution_count": null,
   "id": "2b04c4ee",
   "metadata": {},
   "outputs": [
    {
     "name": "stdout",
     "output_type": "stream",
     "text": [
      "[[ 1  2  3  5]\n",
      " [ 6  7 89  9]\n",
      " [10 11 12 13]]\n"
     ]
    }
   ],
   "source": [
    "arr_resized = np.resize(arr,(3,4))\n",
    "print(arr_resized)"
   ]
  },
  {
   "cell_type": "code",
   "execution_count": 19,
   "id": "1b1cfb94",
   "metadata": {},
   "outputs": [
    {
     "name": "stdout",
     "output_type": "stream",
     "text": [
      "[   1    2 1000    5    6    7   89    9   10   11   12   13]\n"
     ]
    }
   ],
   "source": [
    "arr[2] = 1000\n",
    "print(arr)"
   ]
  },
  {
   "cell_type": "code",
   "execution_count": 20,
   "id": "d36fb07e",
   "metadata": {},
   "outputs": [
    {
     "name": "stdout",
     "output_type": "stream",
     "text": [
      "[[ 1  2  3  5]\n",
      " [ 6  7 89  9]\n",
      " [10 11 12 13]]\n"
     ]
    }
   ],
   "source": [
    "print(arr_resized)"
   ]
  },
  {
   "cell_type": "code",
   "execution_count": 21,
   "id": "142133f3",
   "metadata": {},
   "outputs": [
    {
     "name": "stdout",
     "output_type": "stream",
     "text": [
      "[[  1   2   3   4]\n",
      " [  5   6   7   8]\n",
      " [ 90 100 110 120]\n",
      " [ -1  -2  -3  -4]]\n"
     ]
    }
   ],
   "source": [
    "arr_1 = np.array([[1,2,3,4],[5,6,7,8],[90,100,110,120],[-1,-2,-3,-4]])\n",
    "print(arr_1)"
   ]
  },
  {
   "cell_type": "code",
   "execution_count": 22,
   "id": "883194b3",
   "metadata": {},
   "outputs": [
    {
     "name": "stdout",
     "output_type": "stream",
     "text": [
      "(4, 4)\n"
     ]
    }
   ],
   "source": [
    "print(arr_1.shape)"
   ]
  },
  {
   "cell_type": "code",
   "execution_count": 23,
   "id": "21108fc0",
   "metadata": {},
   "outputs": [
    {
     "name": "stdout",
     "output_type": "stream",
     "text": [
      "[  1   2   3   4   5   6   7   8  90 100 110 120  -1  -2  -3  -4]\n"
     ]
    }
   ],
   "source": [
    "arr_1_ravel = arr_1.ravel()\n",
    "print(arr_1_ravel)"
   ]
  },
  {
   "cell_type": "code",
   "execution_count": 24,
   "id": "3cdfa611",
   "metadata": {},
   "outputs": [
    {
     "data": {
      "text/plain": [
       "(16,)"
      ]
     },
     "execution_count": 24,
     "metadata": {},
     "output_type": "execute_result"
    }
   ],
   "source": [
    "arr_1_ravel.shape"
   ]
  },
  {
   "cell_type": "code",
   "execution_count": 25,
   "id": "cc5ce5b6",
   "metadata": {},
   "outputs": [
    {
     "name": "stdout",
     "output_type": "stream",
     "text": [
      "[[   1    2    3    4]\n",
      " [   5    6    7    8]\n",
      " [  90  100  110 3000]\n",
      " [  -1   -2   -3   -4]]\n"
     ]
    }
   ],
   "source": [
    "arr_1[2,3] = 3000\n",
    "print(arr_1)"
   ]
  },
  {
   "cell_type": "code",
   "execution_count": 26,
   "id": "293176e0",
   "metadata": {},
   "outputs": [
    {
     "name": "stdout",
     "output_type": "stream",
     "text": [
      "[   1    2    3    4    5    6    7    8   90  100  110 3000   -1   -2\n",
      "   -3   -4]\n"
     ]
    }
   ],
   "source": [
    "print(arr_1_ravel)"
   ]
  },
  {
   "cell_type": "code",
   "execution_count": 27,
   "id": "d8dbb829",
   "metadata": {},
   "outputs": [
    {
     "name": "stdout",
     "output_type": "stream",
     "text": [
      "[   1    2    3    4    5    6    7    8   90  100  110 3000   -1   -2\n",
      "   -3   -4]\n"
     ]
    }
   ],
   "source": [
    "arr_1_flatten = arr_1.flatten()\n",
    "print(arr_1_flatten)"
   ]
  },
  {
   "cell_type": "code",
   "execution_count": 28,
   "id": "f181111d",
   "metadata": {},
   "outputs": [
    {
     "name": "stdout",
     "output_type": "stream",
     "text": [
      "[[   1    2    3    4]\n",
      " [   5    6  908    8]\n",
      " [  90  100  110 3000]\n",
      " [  -1   -2   -3   -4]]\n"
     ]
    }
   ],
   "source": [
    "arr_1[1,2] = 908\n",
    "print(arr_1)"
   ]
  },
  {
   "cell_type": "code",
   "execution_count": 29,
   "id": "3f91ba7d",
   "metadata": {},
   "outputs": [
    {
     "name": "stdout",
     "output_type": "stream",
     "text": [
      "[   1    2    3    4    5    6    7    8   90  100  110 3000   -1   -2\n",
      "   -3   -4]\n"
     ]
    }
   ],
   "source": [
    "print(arr_1_flatten)"
   ]
  },
  {
   "cell_type": "markdown",
   "id": "6d663d49",
   "metadata": {},
   "source": [
    "reshape - changes the shape of the matrix and creates a view\n",
    "resize - changes the shape of the matrix and createds a copy\n",
    "\n",
    "ravel - flatten the array and creates a view\n",
    "flatten - flattens the array and creates a copy"
   ]
  },
  {
   "cell_type": "code",
   "execution_count": 30,
   "id": "e328f48c",
   "metadata": {},
   "outputs": [],
   "source": [
    "#Vertical and horizontal stacks\n",
    "\n",
    "a = np.array([[1,2],[3,4]])\n",
    "b = np.array([5,6])"
   ]
  },
  {
   "cell_type": "code",
   "execution_count": 31,
   "id": "3825b0a5",
   "metadata": {},
   "outputs": [
    {
     "data": {
      "text/plain": [
       "(2, 2)"
      ]
     },
     "execution_count": 31,
     "metadata": {},
     "output_type": "execute_result"
    }
   ],
   "source": [
    "a.shape"
   ]
  },
  {
   "cell_type": "code",
   "execution_count": 32,
   "id": "efcc232f",
   "metadata": {},
   "outputs": [
    {
     "data": {
      "text/plain": [
       "(2,)"
      ]
     },
     "execution_count": 32,
     "metadata": {},
     "output_type": "execute_result"
    }
   ],
   "source": [
    "b.shape"
   ]
  },
  {
   "cell_type": "code",
   "execution_count": null,
   "id": "ab25e71f",
   "metadata": {},
   "outputs": [
    {
     "data": {
      "text/plain": [
       "array([[1, 2],\n",
       "       [3, 4],\n",
       "       [5, 6]])"
      ]
     },
     "execution_count": 33,
     "metadata": {},
     "output_type": "execute_result"
    }
   ],
   "source": [
    "np.vstack((a,b)) #the number of columns in both the matrix should be same"
   ]
  },
  {
   "cell_type": "code",
   "execution_count": null,
   "id": "13db6b82",
   "metadata": {},
   "outputs": [
    {
     "data": {
      "text/plain": [
       "array([[1, 2, 5],\n",
       "       [3, 4, 6]])"
      ]
     },
     "execution_count": 36,
     "metadata": {},
     "output_type": "execute_result"
    }
   ],
   "source": [
    "np.hstack((a,b.reshape(2,1))) #the number of rows in both the matrix should be same"
   ]
  },
  {
   "cell_type": "code",
   "execution_count": 40,
   "id": "a20af71d",
   "metadata": {},
   "outputs": [
    {
     "name": "stdout",
     "output_type": "stream",
     "text": [
      "[[1 2]\n",
      " [3 4]]\n"
     ]
    }
   ],
   "source": [
    "print(a)"
   ]
  },
  {
   "cell_type": "code",
   "execution_count": 42,
   "id": "b9de4e86",
   "metadata": {},
   "outputs": [
    {
     "name": "stdout",
     "output_type": "stream",
     "text": [
      "(2,)\n"
     ]
    }
   ],
   "source": [
    "print(b.shape)"
   ]
  },
  {
   "cell_type": "code",
   "execution_count": 44,
   "id": "8ef7e8cd",
   "metadata": {},
   "outputs": [
    {
     "data": {
      "text/plain": [
       "(1, 2)"
      ]
     },
     "execution_count": 44,
     "metadata": {},
     "output_type": "execute_result"
    }
   ],
   "source": [
    "b.reshape(1,2).shape"
   ]
  },
  {
   "cell_type": "code",
   "execution_count": null,
   "id": "ad6cb596",
   "metadata": {},
   "outputs": [
    {
     "data": {
      "text/plain": [
       "array([[1, 2],\n",
       "       [3, 4],\n",
       "       [5, 6]])"
      ]
     },
     "execution_count": 39,
     "metadata": {},
     "output_type": "execute_result"
    }
   ],
   "source": [
    "#concatenate\n",
    "\n",
    "np.concatenate((a,b.reshape(1,2)),axis=0) #vstack or row wise concatenation"
   ]
  },
  {
   "cell_type": "code",
   "execution_count": null,
   "id": "773315c7",
   "metadata": {},
   "outputs": [
    {
     "data": {
      "text/plain": [
       "array([[1, 2, 5],\n",
       "       [3, 4, 6]])"
      ]
     },
     "execution_count": 46,
     "metadata": {},
     "output_type": "execute_result"
    }
   ],
   "source": [
    "np.concatenate((a,b.reshape(2,1)),axis=1) #hstack or column wise concatenation"
   ]
  },
  {
   "cell_type": "code",
   "execution_count": 47,
   "id": "db61c030",
   "metadata": {},
   "outputs": [
    {
     "name": "stdout",
     "output_type": "stream",
     "text": [
      "[[ 0  1  2  3]\n",
      " [ 4  5  6  7]\n",
      " [ 8  9 10 11]\n",
      " [12 13 14 15]]\n"
     ]
    }
   ],
   "source": [
    "x = np.arange(16).reshape(4,4)\n",
    "print(x)"
   ]
  },
  {
   "cell_type": "code",
   "execution_count": null,
   "id": "1f03ba28",
   "metadata": {},
   "outputs": [
    {
     "data": {
      "text/plain": [
       "[array([[ 0,  1],\n",
       "        [ 4,  5],\n",
       "        [ 8,  9],\n",
       "        [12, 13]]),\n",
       " array([[ 2,  3],\n",
       "        [ 6,  7],\n",
       "        [10, 11],\n",
       "        [14, 15]])]"
      ]
     },
     "execution_count": 48,
     "metadata": {},
     "output_type": "execute_result"
    }
   ],
   "source": [
    "np.hsplit(x,2) #to split the columnwise arrays"
   ]
  },
  {
   "cell_type": "code",
   "execution_count": null,
   "id": "37d7a33a",
   "metadata": {},
   "outputs": [
    {
     "data": {
      "text/plain": [
       "[array([[0, 1, 2, 3],\n",
       "        [4, 5, 6, 7]]),\n",
       " array([[ 8,  9, 10, 11],\n",
       "        [12, 13, 14, 15]])]"
      ]
     },
     "execution_count": 49,
     "metadata": {},
     "output_type": "execute_result"
    }
   ],
   "source": [
    "np.vsplit(x,2) #to split the rowwise arrays"
   ]
  },
  {
   "cell_type": "code",
   "execution_count": 50,
   "id": "7fb36ad3",
   "metadata": {},
   "outputs": [
    {
     "data": {
      "text/plain": [
       "15.571428571428571"
      ]
     },
     "execution_count": 50,
     "metadata": {},
     "output_type": "execute_result"
    }
   ],
   "source": [
    "#statistical functions\n",
    "\n",
    "#mean, median, std-dev, percentiles\n",
    "\n",
    "arr = np.array([10,19,18,17,16,15,14])\n",
    "np.mean(arr)"
   ]
  },
  {
   "cell_type": "code",
   "execution_count": 52,
   "id": "702fedf4",
   "metadata": {},
   "outputs": [
    {
     "data": {
      "text/plain": [
       "16.0"
      ]
     },
     "execution_count": 52,
     "metadata": {},
     "output_type": "execute_result"
    }
   ],
   "source": [
    "np.median(arr)"
   ]
  },
  {
   "cell_type": "code",
   "execution_count": 53,
   "id": "32f674e4",
   "metadata": {},
   "outputs": [
    {
     "data": {
      "text/plain": [
       "2.770102775666474"
      ]
     },
     "execution_count": 53,
     "metadata": {},
     "output_type": "execute_result"
    }
   ],
   "source": [
    "np.std(arr)"
   ]
  },
  {
   "cell_type": "code",
   "execution_count": 55,
   "id": "4305494b",
   "metadata": {},
   "outputs": [
    {
     "data": {
      "text/plain": [
       "array([12.4  , 14.2  , 16.   , 18.4  , 18.994])"
      ]
     },
     "execution_count": 55,
     "metadata": {},
     "output_type": "execute_result"
    }
   ],
   "source": [
    "np.percentile(arr,[10,20,50,90,99.9])"
   ]
  },
  {
   "cell_type": "code",
   "execution_count": 56,
   "id": "cc966f8e",
   "metadata": {},
   "outputs": [
    {
     "name": "stdout",
     "output_type": "stream",
     "text": [
      "[[ 2  3  4 65]\n",
      " [12 23 45 67]\n",
      " [10 19 18 17]]\n"
     ]
    }
   ],
   "source": [
    "arr = np.array([[2,3,4,65],[12,23,45,67],[10,19,18,17]])\n",
    "print(arr)"
   ]
  },
  {
   "cell_type": "code",
   "execution_count": null,
   "id": "9ed3a727",
   "metadata": {},
   "outputs": [
    {
     "data": {
      "text/plain": [
       "array([ 8.        , 15.        , 22.33333333, 49.66666667])"
      ]
     },
     "execution_count": 57,
     "metadata": {},
     "output_type": "execute_result"
    }
   ],
   "source": [
    "np.mean(arr,axis=0) #it creates horizontal means"
   ]
  },
  {
   "cell_type": "code",
   "execution_count": null,
   "id": "5917cc87",
   "metadata": {},
   "outputs": [
    {
     "data": {
      "text/plain": [
       "array([18.5 , 36.75, 16.  ])"
      ]
     },
     "execution_count": 58,
     "metadata": {},
     "output_type": "execute_result"
    }
   ],
   "source": [
    "np.mean(arr,axis=1) #it creates vertical means"
   ]
  },
  {
   "cell_type": "code",
   "execution_count": 1,
   "id": "1a0fbc83",
   "metadata": {},
   "outputs": [],
   "source": [
    "import numpy as np"
   ]
  },
  {
   "cell_type": "code",
   "execution_count": 2,
   "id": "5e58236b",
   "metadata": {},
   "outputs": [
    {
     "data": {
      "text/plain": [
       "array([10, 20, 30, 40])"
      ]
     },
     "execution_count": 2,
     "metadata": {},
     "output_type": "execute_result"
    }
   ],
   "source": [
    "#Element wise math operations\n",
    "\n",
    "a = np.array([10,20,30,40])\n",
    "a"
   ]
  },
  {
   "cell_type": "code",
   "execution_count": 3,
   "id": "164029b5",
   "metadata": {},
   "outputs": [
    {
     "data": {
      "text/plain": [
       "array([3.16227766, 4.47213595, 5.47722558, 6.32455532])"
      ]
     },
     "execution_count": 3,
     "metadata": {},
     "output_type": "execute_result"
    }
   ],
   "source": [
    "#Finding square roots of all the elements\n",
    "\n",
    "np.sqrt(a)"
   ]
  },
  {
   "cell_type": "code",
   "execution_count": null,
   "id": "f66a1142",
   "metadata": {},
   "outputs": [
    {
     "data": {
      "text/plain": [
       "array([2.30258509, 2.99573227, 3.40119738, 3.68887945])"
      ]
     },
     "execution_count": 4,
     "metadata": {},
     "output_type": "execute_result"
    }
   ],
   "source": [
    "np.log(a) #Finding the logirthm values"
   ]
  },
  {
   "cell_type": "code",
   "execution_count": null,
   "id": "9ad17114",
   "metadata": {},
   "outputs": [
    {
     "data": {
      "text/plain": [
       "array([2.20264658e+04, 4.85165195e+08, 1.06864746e+13, 2.35385267e+17])"
      ]
     },
     "execution_count": 5,
     "metadata": {},
     "output_type": "execute_result"
    }
   ],
   "source": [
    "np.exp(a) #finding the exponential values"
   ]
  },
  {
   "cell_type": "code",
   "execution_count": null,
   "id": "f350d2a4",
   "metadata": {},
   "outputs": [
    {
     "data": {
      "text/plain": [
       "array([-0.54402111,  0.91294525, -0.98803162,  0.74511316])"
      ]
     },
     "execution_count": 6,
     "metadata": {},
     "output_type": "execute_result"
    }
   ],
   "source": [
    "np.sin(a) #angles in the radians"
   ]
  },
  {
   "cell_type": "markdown",
   "id": "60c57dfa",
   "metadata": {},
   "source": [
    "1 radian  -> 180/pi()\n",
    "1 degrees -> pi()/180\n"
   ]
  },
  {
   "cell_type": "code",
   "execution_count": 8,
   "id": "788e2697",
   "metadata": {},
   "outputs": [
    {
     "data": {
      "text/plain": [
       "1145.9155902616465"
      ]
     },
     "execution_count": 8,
     "metadata": {},
     "output_type": "execute_result"
    }
   ],
   "source": [
    "#conversion of 20 radians to degrees\n",
    "import math\n",
    "\n",
    "20*180/math.pi"
   ]
  },
  {
   "cell_type": "code",
   "execution_count": 9,
   "id": "a9410142",
   "metadata": {},
   "outputs": [
    {
     "data": {
      "text/plain": [
       "0.17453292519943295"
      ]
     },
     "execution_count": 9,
     "metadata": {},
     "output_type": "execute_result"
    }
   ],
   "source": [
    "10*math.pi/180"
   ]
  },
  {
   "cell_type": "code",
   "execution_count": 10,
   "id": "85b13b74",
   "metadata": {},
   "outputs": [
    {
     "data": {
      "text/plain": [
       "array([[12, 45, 76, 90],\n",
       "       [ 9,  2,  4,  6],\n",
       "       [-5, -4, 23, 67]])"
      ]
     },
     "execution_count": 10,
     "metadata": {},
     "output_type": "execute_result"
    }
   ],
   "source": [
    "#Aggregation functions\n",
    "\n",
    "a= np.array([[12,45,76,90],[9,2,4,6],[-5,-4,23,67]])\n",
    "a"
   ]
  },
  {
   "cell_type": "code",
   "execution_count": 11,
   "id": "1f5f99aa",
   "metadata": {},
   "outputs": [
    {
     "data": {
      "text/plain": [
       "(3, 4)"
      ]
     },
     "execution_count": 11,
     "metadata": {},
     "output_type": "execute_result"
    }
   ],
   "source": [
    "a.shape"
   ]
  },
  {
   "cell_type": "code",
   "execution_count": 12,
   "id": "4db78475",
   "metadata": {},
   "outputs": [
    {
     "data": {
      "text/plain": [
       "325"
      ]
     },
     "execution_count": 12,
     "metadata": {},
     "output_type": "execute_result"
    }
   ],
   "source": [
    "np.sum(a)"
   ]
  },
  {
   "cell_type": "code",
   "execution_count": 13,
   "id": "8a0a2143",
   "metadata": {},
   "outputs": [
    {
     "data": {
      "text/plain": [
       "array([ 16,  43, 103, 163])"
      ]
     },
     "execution_count": 13,
     "metadata": {},
     "output_type": "execute_result"
    }
   ],
   "source": [
    "np.sum(a,axis=0)"
   ]
  },
  {
   "cell_type": "code",
   "execution_count": 14,
   "id": "f3b7213c",
   "metadata": {},
   "outputs": [
    {
     "data": {
      "text/plain": [
       "array([223,  21,  81])"
      ]
     },
     "execution_count": 14,
     "metadata": {},
     "output_type": "execute_result"
    }
   ],
   "source": [
    "np.sum(a,axis=1)"
   ]
  },
  {
   "cell_type": "code",
   "execution_count": 16,
   "id": "1b9c17c0",
   "metadata": {},
   "outputs": [
    {
     "data": {
      "text/plain": [
       "-5"
      ]
     },
     "execution_count": 16,
     "metadata": {},
     "output_type": "execute_result"
    }
   ],
   "source": [
    "np.min(a)"
   ]
  },
  {
   "cell_type": "code",
   "execution_count": 17,
   "id": "69d506c8",
   "metadata": {},
   "outputs": [
    {
     "data": {
      "text/plain": [
       "array([-5, -4,  4,  6])"
      ]
     },
     "execution_count": 17,
     "metadata": {},
     "output_type": "execute_result"
    }
   ],
   "source": [
    "np.min(a,axis=0)"
   ]
  },
  {
   "cell_type": "code",
   "execution_count": 18,
   "id": "a9b20b44",
   "metadata": {},
   "outputs": [
    {
     "data": {
      "text/plain": [
       "array([12,  2, -5])"
      ]
     },
     "execution_count": 18,
     "metadata": {},
     "output_type": "execute_result"
    }
   ],
   "source": [
    "np.min(a,axis=1)"
   ]
  },
  {
   "cell_type": "code",
   "execution_count": 19,
   "id": "5a68de12",
   "metadata": {},
   "outputs": [
    {
     "data": {
      "text/plain": [
       "90"
      ]
     },
     "execution_count": 19,
     "metadata": {},
     "output_type": "execute_result"
    }
   ],
   "source": [
    "np.max(a)"
   ]
  },
  {
   "cell_type": "code",
   "execution_count": 20,
   "id": "88100da3",
   "metadata": {},
   "outputs": [
    {
     "data": {
      "text/plain": [
       "(array([12, 45, 76, 90]), array([90,  9, 67]))"
      ]
     },
     "execution_count": 20,
     "metadata": {},
     "output_type": "execute_result"
    }
   ],
   "source": [
    "np.max(a,axis=0), np.max(a,axis=1)"
   ]
  },
  {
   "cell_type": "code",
   "execution_count": 21,
   "id": "218a1235",
   "metadata": {},
   "outputs": [
    {
     "data": {
      "text/plain": [
       "32.19590639955472"
      ]
     },
     "execution_count": 21,
     "metadata": {},
     "output_type": "execute_result"
    }
   ],
   "source": [
    "#Statistical terms: std-dev and variance\n",
    "\n",
    "np.std(a)"
   ]
  },
  {
   "cell_type": "code",
   "execution_count": 22,
   "id": "62d0558f",
   "metadata": {},
   "outputs": [
    {
     "data": {
      "text/plain": [
       "(array([ 7.40870359, 21.8225164 , 30.46673961, 35.44322534]),\n",
       " array([30.05307805,  2.58602011, 29.23503891]))"
      ]
     },
     "execution_count": 22,
     "metadata": {},
     "output_type": "execute_result"
    }
   ],
   "source": [
    "np.std(a,axis=0),np.std(a,axis=1)"
   ]
  },
  {
   "cell_type": "code",
   "execution_count": 23,
   "id": "c9ce0868",
   "metadata": {},
   "outputs": [
    {
     "data": {
      "text/plain": [
       "1036.576388888889"
      ]
     },
     "execution_count": 23,
     "metadata": {},
     "output_type": "execute_result"
    }
   ],
   "source": [
    "np.var(a)"
   ]
  },
  {
   "cell_type": "code",
   "execution_count": 24,
   "id": "5f58d690",
   "metadata": {},
   "outputs": [
    {
     "data": {
      "text/plain": [
       "(array([  54.88888889,  476.22222222,  928.22222222, 1256.22222222]),\n",
       " array([903.1875,   6.6875, 854.6875]))"
      ]
     },
     "execution_count": 24,
     "metadata": {},
     "output_type": "execute_result"
    }
   ],
   "source": [
    "np.var(a,axis=0), np.var(a,axis=1)"
   ]
  },
  {
   "cell_type": "code",
   "execution_count": 25,
   "id": "de2f3ad4",
   "metadata": {},
   "outputs": [
    {
     "data": {
      "text/plain": [
       "array([[ True,  True,  True,  True],\n",
       "       [False, False, False, False],\n",
       "       [False, False,  True,  True]])"
      ]
     },
     "execution_count": 25,
     "metadata": {},
     "output_type": "execute_result"
    }
   ],
   "source": [
    "#comparison and logical functions\n",
    "\n",
    "np.greater(a,10)"
   ]
  },
  {
   "cell_type": "code",
   "execution_count": 26,
   "id": "b28d3056",
   "metadata": {},
   "outputs": [
    {
     "data": {
      "text/plain": [
       "array([[False, False, False, False],\n",
       "       [False, False, False, False],\n",
       "       [False, False,  True, False]])"
      ]
     },
     "execution_count": 26,
     "metadata": {},
     "output_type": "execute_result"
    }
   ],
   "source": [
    "np.equal(a,23)"
   ]
  },
  {
   "cell_type": "code",
   "execution_count": 27,
   "id": "5429d4b0",
   "metadata": {},
   "outputs": [
    {
     "data": {
      "text/plain": [
       "array([[False, False, False, False],\n",
       "       [False, False, False, False],\n",
       "       [False, False, False, False]])"
      ]
     },
     "execution_count": 27,
     "metadata": {},
     "output_type": "execute_result"
    }
   ],
   "source": [
    "np.logical_and(a>0,a==10)"
   ]
  },
  {
   "cell_type": "code",
   "execution_count": 28,
   "id": "f2a774aa",
   "metadata": {},
   "outputs": [
    {
     "data": {
      "text/plain": [
       "array([[ True,  True,  True,  True],\n",
       "       [ True,  True,  True,  True],\n",
       "       [False, False,  True,  True]])"
      ]
     },
     "execution_count": 28,
     "metadata": {},
     "output_type": "execute_result"
    }
   ],
   "source": [
    "np.logical_or(a>0,a==10)"
   ]
  },
  {
   "cell_type": "code",
   "execution_count": null,
   "id": "3f0af42a",
   "metadata": {},
   "outputs": [
    {
     "data": {
      "text/plain": [
       "array([0.89243775, 0.36614868, 0.18206907, 0.43253413, 0.60874182])"
      ]
     },
     "execution_count": 60,
     "metadata": {},
     "output_type": "execute_result"
    }
   ],
   "source": [
    "#random number genearation\n",
    "\n",
    "np.random.rand(5) #Float values between 0 to 1"
   ]
  },
  {
   "cell_type": "code",
   "execution_count": null,
   "id": "3ad00895",
   "metadata": {},
   "outputs": [
    {
     "data": {
      "text/plain": [
       "array([ 0.97209143, -0.28035972, -1.14216315, -1.96609146,  1.4785002 ,\n",
       "        1.00609203, -1.27483874,  0.38707156, -0.35432443, -0.233623  ])"
      ]
     },
     "execution_count": 61,
     "metadata": {},
     "output_type": "execute_result"
    }
   ],
   "source": [
    "np.random.randn(10) #Float values between 0 to 1 and which follows standard normal distribution"
   ]
  },
  {
   "cell_type": "code",
   "execution_count": null,
   "id": "069f5d65",
   "metadata": {},
   "outputs": [
    {
     "data": {
      "text/plain": [
       "array([[11, 18],\n",
       "       [17, 11]])"
      ]
     },
     "execution_count": 100,
     "metadata": {},
     "output_type": "execute_result"
    }
   ],
   "source": [
    "np.random.randint(10,20,size=(2,2)) #int values with desired size/shape"
   ]
  },
  {
   "cell_type": "code",
   "execution_count": null,
   "id": "71fe26dd",
   "metadata": {},
   "outputs": [
    {
     "data": {
      "text/plain": [
       "array([1, 7, 8, 5, 3])"
      ]
     },
     "execution_count": 101,
     "metadata": {},
     "output_type": "execute_result"
    }
   ],
   "source": [
    "np.random.choice(10,5) #int values from 0 to the number(10)"
   ]
  },
  {
   "cell_type": "code",
   "execution_count": null,
   "id": "6827c772",
   "metadata": {},
   "outputs": [
    {
     "data": {
      "text/plain": [
       "array([65,  0,  4,  4,  0, 10,  6,  9,  4,  4])"
      ]
     },
     "execution_count": 103,
     "metadata": {},
     "output_type": "execute_result"
    }
   ],
   "source": [
    "np.random.choice([10,34,65,78,9,0,12,4,100,40,6,7],10) #int values based on the size(10) from the given list of items"
   ]
  },
  {
   "cell_type": "code",
   "execution_count": 105,
   "id": "eb8af97f",
   "metadata": {},
   "outputs": [],
   "source": [
    "#linear algebra functions\n",
    "\n",
    "a = np.array([[1,2],[3,4]])\n",
    "b = np.array([[5,6],[7,8]])"
   ]
  },
  {
   "cell_type": "code",
   "execution_count": 106,
   "id": "63e618d6",
   "metadata": {},
   "outputs": [
    {
     "data": {
      "text/plain": [
       "array([[1, 2],\n",
       "       [3, 4]])"
      ]
     },
     "execution_count": 106,
     "metadata": {},
     "output_type": "execute_result"
    }
   ],
   "source": [
    "a"
   ]
  },
  {
   "cell_type": "code",
   "execution_count": 107,
   "id": "be50e065",
   "metadata": {},
   "outputs": [
    {
     "data": {
      "text/plain": [
       "array([[5, 6],\n",
       "       [7, 8]])"
      ]
     },
     "execution_count": 107,
     "metadata": {},
     "output_type": "execute_result"
    }
   ],
   "source": [
    "b"
   ]
  },
  {
   "cell_type": "code",
   "execution_count": 108,
   "id": "b32e0baa",
   "metadata": {},
   "outputs": [
    {
     "data": {
      "text/plain": [
       "array([[19, 22],\n",
       "       [43, 50]])"
      ]
     },
     "execution_count": 108,
     "metadata": {},
     "output_type": "execute_result"
    }
   ],
   "source": [
    "#dot product\n",
    "\n",
    "np.dot(a,b)"
   ]
  },
  {
   "cell_type": "code",
   "execution_count": 109,
   "id": "8d3677c6",
   "metadata": {},
   "outputs": [
    {
     "data": {
      "text/plain": [
       "array([[ 7, 10],\n",
       "       [15, 22]])"
      ]
     },
     "execution_count": 109,
     "metadata": {},
     "output_type": "execute_result"
    }
   ],
   "source": [
    "np.dot(a,a)"
   ]
  },
  {
   "cell_type": "code",
   "execution_count": 110,
   "id": "8cc1d2d9",
   "metadata": {},
   "outputs": [
    {
     "data": {
      "text/plain": [
       "array([[ 67,  78],\n",
       "       [ 91, 106]])"
      ]
     },
     "execution_count": 110,
     "metadata": {},
     "output_type": "execute_result"
    }
   ],
   "source": [
    "np.dot(b,b)"
   ]
  },
  {
   "cell_type": "code",
   "execution_count": null,
   "id": "9e2fe2ed",
   "metadata": {},
   "outputs": [
    {
     "data": {
      "text/plain": [
       "array([[19, 22],\n",
       "       [43, 50]])"
      ]
     },
     "execution_count": 111,
     "metadata": {},
     "output_type": "execute_result"
    }
   ],
   "source": [
    "a@b #dot product between the arrays"
   ]
  },
  {
   "cell_type": "code",
   "execution_count": 112,
   "id": "4112b106",
   "metadata": {},
   "outputs": [
    {
     "data": {
      "text/plain": [
       "array([[-2. ,  1. ],\n",
       "       [ 1.5, -0.5]])"
      ]
     },
     "execution_count": 112,
     "metadata": {},
     "output_type": "execute_result"
    }
   ],
   "source": [
    "np.linalg.inv(a)"
   ]
  },
  {
   "cell_type": "code",
   "execution_count": null,
   "id": "14c4f2c0",
   "metadata": {},
   "outputs": [
    {
     "data": {
      "text/plain": [
       "-2.0000000000000004"
      ]
     },
     "execution_count": 113,
     "metadata": {},
     "output_type": "execute_result"
    }
   ],
   "source": [
    "np.linalg.det(a) #determinant of the matrix A"
   ]
  },
  {
   "cell_type": "code",
   "execution_count": 114,
   "id": "2c5b4398",
   "metadata": {},
   "outputs": [
    {
     "data": {
      "text/plain": [
       "-2.000000000000005"
      ]
     },
     "execution_count": 114,
     "metadata": {},
     "output_type": "execute_result"
    }
   ],
   "source": [
    "np.linalg.det(b)"
   ]
  },
  {
   "cell_type": "code",
   "execution_count": 115,
   "id": "30641711",
   "metadata": {},
   "outputs": [
    {
     "data": {
      "text/plain": [
       "2"
      ]
     },
     "execution_count": 115,
     "metadata": {},
     "output_type": "execute_result"
    }
   ],
   "source": [
    "np.linalg.matrix_rank(a)"
   ]
  },
  {
   "cell_type": "code",
   "execution_count": null,
   "id": "4ca345e7",
   "metadata": {},
   "outputs": [],
   "source": [
    "a = np.array([[10,20],[30,40]])\n",
    "b = np.array([2,3])"
   ]
  },
  {
   "cell_type": "code",
   "execution_count": 116,
   "id": "9f912839",
   "metadata": {},
   "outputs": [
    {
     "data": {
      "text/plain": [
       "array([[-3., -4.],\n",
       "       [ 4.,  5.]])"
      ]
     },
     "execution_count": 116,
     "metadata": {},
     "output_type": "execute_result"
    }
   ],
   "source": [
    "np.linalg.solve(a,b)"
   ]
  },
  {
   "cell_type": "code",
   "execution_count": 117,
   "id": "6299b58b",
   "metadata": {},
   "outputs": [
    {
     "data": {
      "text/plain": [
       "array([[10, 20, 30],\n",
       "       [40, 50, 60],\n",
       "       [70, 80, 90]])"
      ]
     },
     "execution_count": 117,
     "metadata": {},
     "output_type": "execute_result"
    }
   ],
   "source": [
    "#Calculation of eigen values and eigen vectors\n",
    "\n",
    "a = np.array([[10,20,30],[40,50,60],[70,80,90]])\n",
    "a"
   ]
  },
  {
   "cell_type": "code",
   "execution_count": 118,
   "id": "d5842103",
   "metadata": {},
   "outputs": [
    {
     "data": {
      "text/plain": [
       "EigResult(eigenvalues=array([ 1.61168440e+02, -1.11684397e+01,  2.06802688e-15]), eigenvectors=array([[-0.23197069, -0.78583024,  0.40824829],\n",
       "       [-0.52532209, -0.08675134, -0.81649658],\n",
       "       [-0.8186735 ,  0.61232756,  0.40824829]]))"
      ]
     },
     "execution_count": 118,
     "metadata": {},
     "output_type": "execute_result"
    }
   ],
   "source": [
    "np.linalg.eig(a)"
   ]
  },
  {
   "cell_type": "code",
   "execution_count": null,
   "id": "b97aeb01",
   "metadata": {},
   "outputs": [],
   "source": [
    "3x + y+ 2z = 13\n",
    "x + 2y+ 3z = 14\n",
    "4x + 5y -z  = 21"
   ]
  },
  {
   "cell_type": "code",
   "execution_count": 121,
   "id": "8696c7b5",
   "metadata": {},
   "outputs": [],
   "source": [
    "a = np.array([[3,1,2],[1,2,3],[4,5,-1]])\n",
    "b = np.array([13,14,21])"
   ]
  },
  {
   "cell_type": "code",
   "execution_count": 122,
   "id": "ac5b08cd",
   "metadata": {},
   "outputs": [
    {
     "data": {
      "text/plain": [
       "array([2., 3., 2.])"
      ]
     },
     "execution_count": 122,
     "metadata": {},
     "output_type": "execute_result"
    }
   ],
   "source": [
    "np.linalg.solve(a,b)"
   ]
  },
  {
   "cell_type": "code",
   "execution_count": 1,
   "id": "ebd9e989",
   "metadata": {},
   "outputs": [],
   "source": [
    "import numpy as np"
   ]
  },
  {
   "cell_type": "code",
   "execution_count": 3,
   "id": "dc546623",
   "metadata": {},
   "outputs": [
    {
     "data": {
      "text/plain": [
       "array([34,  4,  0])"
      ]
     },
     "execution_count": 3,
     "metadata": {},
     "output_type": "execute_result"
    }
   ],
   "source": [
    "a = np.array([23,34,56,678,1,4,8,9,0,56,9,0])\n",
    "a[[1,5,8]]"
   ]
  },
  {
   "cell_type": "code",
   "execution_count": 4,
   "id": "b1ee80c8",
   "metadata": {},
   "outputs": [
    {
     "data": {
      "text/plain": [
       "array([0, 9, 1])"
      ]
     },
     "execution_count": 4,
     "metadata": {},
     "output_type": "execute_result"
    }
   ],
   "source": [
    "a[[-1,-5,-8]]"
   ]
  },
  {
   "cell_type": "code",
   "execution_count": 5,
   "id": "a3f3ddd9",
   "metadata": {},
   "outputs": [],
   "source": [
    "a = np.array([[12,34,56],[4,87,23],[0,9,8],[23,45,67]])"
   ]
  },
  {
   "cell_type": "code",
   "execution_count": 6,
   "id": "2f4d6ce1",
   "metadata": {},
   "outputs": [
    {
     "data": {
      "text/plain": [
       "array([[12, 34, 56],\n",
       "       [ 4, 87, 23],\n",
       "       [ 0,  9,  8],\n",
       "       [23, 45, 67]])"
      ]
     },
     "execution_count": 6,
     "metadata": {},
     "output_type": "execute_result"
    }
   ],
   "source": [
    "a"
   ]
  },
  {
   "cell_type": "code",
   "execution_count": 10,
   "id": "90ca0955",
   "metadata": {},
   "outputs": [],
   "source": [
    "rows = [1,2,3]\n",
    "cols = [0,2,1]"
   ]
  },
  {
   "cell_type": "code",
   "execution_count": 11,
   "id": "96646d9f",
   "metadata": {},
   "outputs": [
    {
     "data": {
      "text/plain": [
       "array([ 4,  8, 45])"
      ]
     },
     "execution_count": 11,
     "metadata": {},
     "output_type": "execute_result"
    }
   ],
   "source": [
    "a[rows,cols]"
   ]
  },
  {
   "cell_type": "code",
   "execution_count": null,
   "id": "ada81a51",
   "metadata": {},
   "outputs": [],
   "source": [
    "#Fancy/Boolean indexing - this will be used to filter the elements in the numpy array based on a condition\n",
    "\n",
    "a = np.array([90,34,-9,-4,3,-45,32,1,0,6,-78,-230])\n",
    "mask = a<0"
   ]
  },
  {
   "cell_type": "code",
   "execution_count": 17,
   "id": "cf598ff3",
   "metadata": {},
   "outputs": [
    {
     "data": {
      "text/plain": [
       "array([  -9,   -4,  -45,  -78, -230])"
      ]
     },
     "execution_count": 17,
     "metadata": {},
     "output_type": "execute_result"
    }
   ],
   "source": [
    "a[mask]"
   ]
  },
  {
   "cell_type": "code",
   "execution_count": 18,
   "id": "727c1025",
   "metadata": {},
   "outputs": [
    {
     "data": {
      "text/plain": [
       "array([12, 34, 56, 87, 23, 23, 45, 67])"
      ]
     },
     "execution_count": 18,
     "metadata": {},
     "output_type": "execute_result"
    }
   ],
   "source": [
    "a = np.array([[12,34,56],[4,87,23],[0,9,8],[23,45,67]])\n",
    "\n",
    "mask  = a>10\n",
    "a[mask]"
   ]
  },
  {
   "cell_type": "code",
   "execution_count": 19,
   "id": "ee9eb90d",
   "metadata": {},
   "outputs": [
    {
     "data": {
      "text/plain": [
       "array(['Positive', 'Positive', 'Negative', 'Negative', 'Positive',\n",
       "       'Negative', 'Positive', 'Positive', 'Negative', 'Positive',\n",
       "       'Negative', 'Negative'], dtype='<U8')"
      ]
     },
     "execution_count": 19,
     "metadata": {},
     "output_type": "execute_result"
    }
   ],
   "source": [
    "#Conditional search\n",
    "#Replace all the positive numbers with \"Positive\" and replace all the negative numbers with \"Negative\"\n",
    "\n",
    "a = np.array([90,34,-9,-4,3,-45,32,1,0,6,-78,-230])\n",
    "\n",
    "#Syntax: np.where(condition,pass_value,fail_value)\n",
    "\n",
    "np.where(a>0,\"Positive\",\"Negative\")"
   ]
  },
  {
   "cell_type": "code",
   "execution_count": 20,
   "id": "c1952cde",
   "metadata": {},
   "outputs": [
    {
     "data": {
      "text/plain": [
       "array([[0, 0, 0],\n",
       "       [0, 1, 1],\n",
       "       [0, 1, 0],\n",
       "       [1, 1, 1]])"
      ]
     },
     "execution_count": 20,
     "metadata": {},
     "output_type": "execute_result"
    }
   ],
   "source": [
    "#Replae all even numbers with 0 otherwise replae with 1\n",
    "a = np.array([[12,34,56],[4,87,23],[0,9,8],[23,45,67]])\n",
    "\n",
    "np.where(a%2==0,0,1)"
   ]
  },
  {
   "cell_type": "code",
   "execution_count": 22,
   "id": "0b596ef9",
   "metadata": {},
   "outputs": [
    {
     "data": {
      "text/plain": [
       "array(['Third', 'Second', 'First', 'First', 'First', 'Third', 'Second',\n",
       "       'Third', 'First', 'Third', 'Third', 'Second', 'First', 'First',\n",
       "       'Third', 'First', 'First', 'First', 'Third'], dtype='<U6')"
      ]
     },
     "execution_count": 22,
     "metadata": {},
     "output_type": "execute_result"
    }
   ],
   "source": [
    "#If you have multiple conditions then we can use np.select\n",
    "\n",
    "#syntax: np.select(conditions,choices)\n",
    "\n",
    "marks = np.array([23,45,67,89,90,32,54,14,90,9,32,45,87,100,23,67,62,94,21])\n",
    "\n",
    "conditions = [marks>=60,\n",
    "(marks>=40) & (marks<60),\n",
    "marks<40]\n",
    "\n",
    "choices = [\"First\",\"Second\",\"Third\"]\n",
    "\n",
    "np.select(conditions,choices)"
   ]
  },
  {
   "cell_type": "code",
   "execution_count": null,
   "id": "bbc5eb61",
   "metadata": {},
   "outputs": [
    {
     "data": {
      "text/plain": [
       "array([  9,  14,  21,  23,  32,  45,  54,  62,  67,  87,  89,  90,  94,\n",
       "       100])"
      ]
     },
     "execution_count": 23,
     "metadata": {},
     "output_type": "execute_result"
    }
   ],
   "source": [
    "np.unique(marks) #This will give you the unique items innthe ascending order"
   ]
  },
  {
   "cell_type": "code",
   "execution_count": null,
   "id": "52045b1d",
   "metadata": {},
   "outputs": [
    {
     "data": {
      "text/plain": [
       "array([  9,  14,  21,  23,  23,  32,  32,  45,  45,  54,  62,  67,  67,\n",
       "        87,  89,  90,  90,  94, 100])"
      ]
     },
     "execution_count": 24,
     "metadata": {},
     "output_type": "execute_result"
    }
   ],
   "source": [
    "#Sorting\n",
    "\n",
    "np.sort(marks) #ascending order"
   ]
  },
  {
   "cell_type": "code",
   "execution_count": null,
   "id": "fa8ca93f",
   "metadata": {},
   "outputs": [
    {
     "data": {
      "text/plain": [
       "array([100,  94,  90,  90,  89,  87,  67,  67,  62,  54,  45,  45,  32,\n",
       "        32,  23,  23,  21,  14,   9])"
      ]
     },
     "execution_count": 25,
     "metadata": {},
     "output_type": "execute_result"
    }
   ],
   "source": [
    "np.sort(marks)[::-1] #desending order"
   ]
  },
  {
   "cell_type": "code",
   "execution_count": 28,
   "id": "dfeef253",
   "metadata": {},
   "outputs": [
    {
     "data": {
      "text/plain": [
       "array([100,  89,  62,  32,  21])"
      ]
     },
     "execution_count": 28,
     "metadata": {},
     "output_type": "execute_result"
    }
   ],
   "source": [
    "np.sort(marks)[::-4]"
   ]
  },
  {
   "cell_type": "code",
   "execution_count": 29,
   "id": "bff8974f",
   "metadata": {},
   "outputs": [
    {
     "data": {
      "text/plain": [
       "array([[12, 34, 56],\n",
       "       [ 4, 87, 23],\n",
       "       [ 0,  9,  8],\n",
       "       [23, 45, 67]])"
      ]
     },
     "execution_count": 29,
     "metadata": {},
     "output_type": "execute_result"
    }
   ],
   "source": [
    "#sorting the items row wise and column wise in the fiven array\n",
    "\n",
    "a = np.array([[12,34,56],[4,87,23],[0,9,8],[23,45,67]])\n",
    "a"
   ]
  },
  {
   "cell_type": "code",
   "execution_count": 32,
   "id": "ebc619f9",
   "metadata": {},
   "outputs": [
    {
     "data": {
      "text/plain": [
       "array([[ 0,  9,  8],\n",
       "       [ 4, 34, 23],\n",
       "       [12, 45, 56],\n",
       "       [23, 87, 67]])"
      ]
     },
     "execution_count": 32,
     "metadata": {},
     "output_type": "execute_result"
    }
   ],
   "source": [
    "np.sort(a,axis=0)"
   ]
  },
  {
   "cell_type": "code",
   "execution_count": 33,
   "id": "ae3cdae5",
   "metadata": {},
   "outputs": [
    {
     "data": {
      "text/plain": [
       "array([[12, 34, 56],\n",
       "       [ 4, 23, 87],\n",
       "       [ 0,  8,  9],\n",
       "       [23, 45, 67]])"
      ]
     },
     "execution_count": 33,
     "metadata": {},
     "output_type": "execute_result"
    }
   ],
   "source": [
    "np.sort(a,axis=1)"
   ]
  },
  {
   "cell_type": "code",
   "execution_count": null,
   "id": "4675d15b",
   "metadata": {},
   "outputs": [],
   "source": [
    "#arg sort  - will return the indices of the sorted numpy array\n",
    "\n",
    "marks = np.array([23,45,67,89,90,32,54,14,90,9,32,45,87,100,23,67,62,94,21])"
   ]
  },
  {
   "cell_type": "code",
   "execution_count": 34,
   "id": "d2e2558f",
   "metadata": {},
   "outputs": [
    {
     "data": {
      "text/plain": [
       "array([  9,  14,  21,  23,  23,  32,  32,  45,  45,  54,  62,  67,  67,\n",
       "        87,  89,  90,  90,  94, 100])"
      ]
     },
     "execution_count": 34,
     "metadata": {},
     "output_type": "execute_result"
    }
   ],
   "source": [
    "np.sort(marks)"
   ]
  },
  {
   "cell_type": "code",
   "execution_count": null,
   "id": "8446956e",
   "metadata": {},
   "outputs": [
    {
     "data": {
      "text/plain": [
       "array([ 9,  7, 18, 14,  0,  5, 10,  1, 11,  6, 16, 15,  2, 12,  3,  4,  8,\n",
       "       17, 13], dtype=int64)"
      ]
     },
     "execution_count": 35,
     "metadata": {},
     "output_type": "execute_result"
    }
   ],
   "source": [
    "np.argsort(marks) #this returns the indices of the ascending order items "
   ]
  },
  {
   "cell_type": "code",
   "execution_count": 36,
   "id": "cd94c25b",
   "metadata": {},
   "outputs": [
    {
     "data": {
      "text/plain": [
       "array([13, 17,  8,  4,  3, 12,  2, 15, 16,  6, 11,  1, 10,  5,  0, 14, 18,\n",
       "        7,  9], dtype=int64)"
      ]
     },
     "execution_count": 36,
     "metadata": {},
     "output_type": "execute_result"
    }
   ],
   "source": [
    "np.argsort(marks)[::-1] #this will return the indices of the descending order items"
   ]
  },
  {
   "cell_type": "code",
   "execution_count": 37,
   "id": "8b31bd6d",
   "metadata": {},
   "outputs": [
    {
     "data": {
      "text/plain": [
       "13"
      ]
     },
     "execution_count": 37,
     "metadata": {},
     "output_type": "execute_result"
    }
   ],
   "source": [
    "#argmax -> will return the index position of the maximum value of the array\n",
    "\n",
    "np.argmax(marks)"
   ]
  },
  {
   "cell_type": "code",
   "execution_count": 38,
   "id": "d0ce5229",
   "metadata": {},
   "outputs": [
    {
     "data": {
      "text/plain": [
       "9"
      ]
     },
     "execution_count": 38,
     "metadata": {},
     "output_type": "execute_result"
    }
   ],
   "source": [
    "#argmin -> will return the index position of the minimum value of the array\n",
    "\n",
    "np.argmin(marks)"
   ]
  },
  {
   "cell_type": "code",
   "execution_count": 39,
   "id": "4cda71a0",
   "metadata": {},
   "outputs": [
    {
     "data": {
      "text/plain": [
       "array([40, 45, 67, 80, 80, 40, 54, 40, 80, 40, 40, 45, 80, 80, 40, 67, 62,\n",
       "       80, 40])"
      ]
     },
     "execution_count": 39,
     "metadata": {},
     "output_type": "execute_result"
    }
   ],
   "source": [
    "#np.clip -> adjust the array with in the given range\n",
    "\n",
    "marks = np.array([23,45,67,89,90,32,54,14,90,9,32,45,87,100,23,67,62,94,21])\n",
    "\n",
    "#syntax: np.clip(array_name,min,max)\n",
    "\n",
    "np.clip(marks,40,80)"
   ]
  }
 ],
 "metadata": {
  "kernelspec": {
   "display_name": "Python 3",
   "language": "python",
   "name": "python3"
  },
  "language_info": {
   "codemirror_mode": {
    "name": "ipython",
    "version": 3
   },
   "file_extension": ".py",
   "mimetype": "text/x-python",
   "name": "python",
   "nbconvert_exporter": "python",
   "pygments_lexer": "ipython3",
   "version": "3.11.5"
  }
 },
 "nbformat": 4,
 "nbformat_minor": 5
}
