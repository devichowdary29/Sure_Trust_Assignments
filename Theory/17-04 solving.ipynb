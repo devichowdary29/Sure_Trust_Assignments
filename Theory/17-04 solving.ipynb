{
 "cells": [
  {
   "cell_type": "markdown",
   "id": "3140a17f",
   "metadata": {},
   "source": [
    "Create a 1D array of 20 random integers between 1 and 100. Replace all values:\n",
    "< 30 → \"Low\"\n",
    "30–70 → \"Medium\"\n",
    "70 → \"High\""
   ]
  },
  {
   "cell_type": "code",
   "execution_count": 1,
   "id": "7f95fe9e",
   "metadata": {},
   "outputs": [],
   "source": [
    "import numpy as np"
   ]
  },
  {
   "cell_type": "code",
   "execution_count": 2,
   "id": "377c5771",
   "metadata": {},
   "outputs": [
    {
     "data": {
      "text/plain": [
       "array([86, 32, 99, 41, 69, 63, 53, 47,  7, 30, 75, 22, 32, 22, 72, 95, 36,\n",
       "       13, 73, 58])"
      ]
     },
     "execution_count": 2,
     "metadata": {},
     "output_type": "execute_result"
    }
   ],
   "source": [
    "arr=np.random.randint(1,101,size=20)\n",
    "arr"
   ]
  },
  {
   "cell_type": "code",
   "execution_count": 3,
   "id": "f68416a7",
   "metadata": {},
   "outputs": [
    {
     "data": {
      "text/plain": [
       "array(['High', 'Medium', 'High', 'Medium', 'Medium', 'Medium', 'Medium',\n",
       "       'Medium', 'Low', 'Medium', 'High', 'Low', 'Medium', 'Low', 'High',\n",
       "       'High', 'Medium', 'Low', 'High', 'Medium'], dtype='<U6')"
      ]
     },
     "execution_count": 3,
     "metadata": {},
     "output_type": "execute_result"
    }
   ],
   "source": [
    "arr1=np.where(arr<30,\"Low\",\n",
    "              np.where(arr<=70,\"Medium\",\"High\"))\n",
    "arr1"
   ]
  },
  {
   "cell_type": "markdown",
   "id": "4751c1b7",
   "metadata": {},
   "source": [
    "use Titanic dataset and NumPy to calculate:\n",
    "1. The number of passengers over age 50\n",
    "2. The mean fare paid by those passengers"
   ]
  },
  {
   "cell_type": "code",
   "execution_count": 4,
   "id": "7d65c1ab",
   "metadata": {},
   "outputs": [],
   "source": [
    "import pandas as pd"
   ]
  },
  {
   "cell_type": "code",
   "execution_count": 6,
   "id": "2dd2f1d9",
   "metadata": {},
   "outputs": [],
   "source": [
    "df = pd.read_csv(\"C:\\\\Users\\\\devic\\\\Documents\\\\PYTHON\\\\SURE_TRUST\\\\Sure_Trust_Assignments\\\\TEST\\\\Titanic-Dataset.csv\")\n"
   ]
  },
  {
   "cell_type": "code",
   "execution_count": 7,
   "id": "6bcec412",
   "metadata": {},
   "outputs": [],
   "source": [
    "df=df.dropna(subset=['Age','Fare'])\n",
    "ages=df['Age'].to_numpy()\n",
    "fares=df['Fare'].to_numpy()\n",
    "over_50_mask=ages>50\n",
    "passengers_over_50=ages[over_50_mask]\n",
    "fares_over_50=fares[over_50_mask]"
   ]
  },
  {
   "cell_type": "code",
   "execution_count": 8,
   "id": "32362bfd",
   "metadata": {},
   "outputs": [
    {
     "name": "stdout",
     "output_type": "stream",
     "text": [
      "64\n",
      "64\n"
     ]
    }
   ],
   "source": [
    "print(len(passengers_over_50))\n",
    "print(len(fares_over_50))"
   ]
  }
 ],
 "metadata": {
  "kernelspec": {
   "display_name": "base",
   "language": "python",
   "name": "python3"
  },
  "language_info": {
   "codemirror_mode": {
    "name": "ipython",
    "version": 3
   },
   "file_extension": ".py",
   "mimetype": "text/x-python",
   "name": "python",
   "nbconvert_exporter": "python",
   "pygments_lexer": "ipython3",
   "version": "3.12.4"
  }
 },
 "nbformat": 4,
 "nbformat_minor": 5
}
