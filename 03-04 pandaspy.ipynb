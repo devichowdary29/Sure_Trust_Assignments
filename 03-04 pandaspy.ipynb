{
 "cells": [
  {
   "cell_type": "code",
   "execution_count": 25,
   "metadata": {},
   "outputs": [],
   "source": [
    "data = {'Department': ['HR', 'IT', 'HR', 'IT', 'Finance', 'Finance', 'IT', 'HR'],\n",
    "        'Employee': ['Alice', 'Bob', 'Charlie', 'David', 'Eve', 'Frank', 'Grace', 'Helen'],\n",
    "        'Salary': [50000, 70000, 45000, 80000, 60000, 62000, 72000, 48000],\n",
    "        'Experience': [5, 7, 4, 10, 8, 6, 9, 3]}"
   ]
  },
  {
   "cell_type": "code",
   "execution_count": 26,
   "metadata": {},
   "outputs": [],
   "source": [
    "import pandas as pd\n",
    "df=pd.DataFrame(data)"
   ]
  },
  {
   "cell_type": "code",
   "execution_count": 27,
   "metadata": {},
   "outputs": [
    {
     "data": {
      "text/html": [
       "<div>\n",
       "<style scoped>\n",
       "    .dataframe tbody tr th:only-of-type {\n",
       "        vertical-align: middle;\n",
       "    }\n",
       "\n",
       "    .dataframe tbody tr th {\n",
       "        vertical-align: top;\n",
       "    }\n",
       "\n",
       "    .dataframe thead th {\n",
       "        text-align: right;\n",
       "    }\n",
       "</style>\n",
       "<table border=\"1\" class=\"dataframe\">\n",
       "  <thead>\n",
       "    <tr style=\"text-align: right;\">\n",
       "      <th></th>\n",
       "      <th>Department</th>\n",
       "      <th>Employee</th>\n",
       "      <th>Salary</th>\n",
       "      <th>Experience</th>\n",
       "    </tr>\n",
       "  </thead>\n",
       "  <tbody>\n",
       "    <tr>\n",
       "      <th>0</th>\n",
       "      <td>HR</td>\n",
       "      <td>Alice</td>\n",
       "      <td>50000</td>\n",
       "      <td>5</td>\n",
       "    </tr>\n",
       "    <tr>\n",
       "      <th>1</th>\n",
       "      <td>IT</td>\n",
       "      <td>Bob</td>\n",
       "      <td>70000</td>\n",
       "      <td>7</td>\n",
       "    </tr>\n",
       "    <tr>\n",
       "      <th>2</th>\n",
       "      <td>HR</td>\n",
       "      <td>Charlie</td>\n",
       "      <td>45000</td>\n",
       "      <td>4</td>\n",
       "    </tr>\n",
       "    <tr>\n",
       "      <th>3</th>\n",
       "      <td>IT</td>\n",
       "      <td>David</td>\n",
       "      <td>80000</td>\n",
       "      <td>10</td>\n",
       "    </tr>\n",
       "    <tr>\n",
       "      <th>4</th>\n",
       "      <td>Finance</td>\n",
       "      <td>Eve</td>\n",
       "      <td>60000</td>\n",
       "      <td>8</td>\n",
       "    </tr>\n",
       "    <tr>\n",
       "      <th>5</th>\n",
       "      <td>Finance</td>\n",
       "      <td>Frank</td>\n",
       "      <td>62000</td>\n",
       "      <td>6</td>\n",
       "    </tr>\n",
       "    <tr>\n",
       "      <th>6</th>\n",
       "      <td>IT</td>\n",
       "      <td>Grace</td>\n",
       "      <td>72000</td>\n",
       "      <td>9</td>\n",
       "    </tr>\n",
       "    <tr>\n",
       "      <th>7</th>\n",
       "      <td>HR</td>\n",
       "      <td>Helen</td>\n",
       "      <td>48000</td>\n",
       "      <td>3</td>\n",
       "    </tr>\n",
       "  </tbody>\n",
       "</table>\n",
       "</div>"
      ],
      "text/plain": [
       "  Department Employee  Salary  Experience\n",
       "0         HR    Alice   50000           5\n",
       "1         IT      Bob   70000           7\n",
       "2         HR  Charlie   45000           4\n",
       "3         IT    David   80000          10\n",
       "4    Finance      Eve   60000           8\n",
       "5    Finance    Frank   62000           6\n",
       "6         IT    Grace   72000           9\n",
       "7         HR    Helen   48000           3"
      ]
     },
     "execution_count": 27,
     "metadata": {},
     "output_type": "execute_result"
    }
   ],
   "source": [
    "df"
   ]
  },
  {
   "cell_type": "code",
   "execution_count": 28,
   "metadata": {},
   "outputs": [
    {
     "name": "stdout",
     "output_type": "stream",
     "text": [
      "  Department    Avg Salary\n",
      "0    Finance  61000.000000\n",
      "1         HR  47666.666667\n",
      "2         IT  74000.000000\n"
     ]
    }
   ],
   "source": [
    "avg_sal = df.groupby('Department', as_index=False)['Salary'].mean().rename(columns={'Salary': 'Avg Salary'})\n",
    "print(avg_sal)"
   ]
  },
  {
   "cell_type": "code",
   "execution_count": null,
   "metadata": {},
   "outputs": [],
   "source": []
  },
  {
   "cell_type": "code",
   "execution_count": 29,
   "metadata": {},
   "outputs": [],
   "source": [
    "import pandas as pd\n",
    "marks_data = {\n",
    "    'Student': ['Alice', 'Bob', 'Charlie', 'David', 'Eve', 'Frank', 'Grace', 'Helen'],\n",
    "    'Subject': ['Math', 'Math', 'Math', 'Science', 'Science', 'Science', 'Math', 'Science'],\n",
    "    'Marks': [85, 78, 92, 88, 76, 95, 89, 80]\n",
    "}\n",
    "df1 = pd.DataFrame(marks_data)\n",
    "\n",
    "\n"
   ]
  },
  {
   "cell_type": "code",
   "execution_count": 30,
   "metadata": {},
   "outputs": [],
   "source": [
    "avg_marks = df1.groupby('Subject', as_index=False)['Marks'].mean().rename(columns={'Marks': 'Average Marks'})"
   ]
  },
  {
   "cell_type": "code",
   "execution_count": 31,
   "metadata": {},
   "outputs": [],
   "source": [
    "max_marks = df1.groupby('Subject', as_index=False)['Marks'].max().rename(columns={'Marks': 'Highest Marks'})\n",
    "min_marks = df1.groupby('Subject', as_index=False)['Marks'].min().rename(columns={'Marks': 'Lowest Marks'})"
   ]
  },
  {
   "cell_type": "code",
   "execution_count": 32,
   "metadata": {},
   "outputs": [
    {
     "name": "stdout",
     "output_type": "stream",
     "text": [
      "   Subject  Average Marks\n",
      "0     Math          86.00\n",
      "1  Science          84.75\n",
      "   Subject  Highest Marks\n",
      "0     Math             92\n",
      "1  Science             95\n",
      "   Subject  Lowest Marks\n",
      "0     Math            78\n",
      "1  Science            76\n"
     ]
    }
   ],
   "source": [
    "print(avg_marks)\n",
    "print(max_marks)\n",
    "print(min_marks)"
   ]
  }
 ],
 "metadata": {
  "kernelspec": {
   "display_name": "Python 3",
   "language": "python",
   "name": "python3"
  },
  "language_info": {
   "codemirror_mode": {
    "name": "ipython",
    "version": 3
   },
   "file_extension": ".py",
   "mimetype": "text/x-python",
   "name": "python",
   "nbconvert_exporter": "python",
   "pygments_lexer": "ipython3",
   "version": "3.12.9"
  }
 },
 "nbformat": 4,
 "nbformat_minor": 2
}
